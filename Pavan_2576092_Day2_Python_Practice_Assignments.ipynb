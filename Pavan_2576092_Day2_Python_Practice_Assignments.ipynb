{
 "cells": [
  {
   "cell_type": "markdown",
   "id": "6ebdc2ce",
   "metadata": {},
   "source": [
    "# 1.Write a python function to list even and odd numbers in a list."
   ]
  },
  {
   "cell_type": "code",
   "execution_count": 1,
   "id": "b43d6817",
   "metadata": {},
   "outputs": [],
   "source": [
    "def even_odd_num(num):\n",
    "    even_numbers = []\n",
    "    odd_numbers = []\n",
    "    for i in num:\n",
    "        if i % 2 == 0:\n",
    "            even_numbers.append(i)\n",
    "        else:\n",
    "            odd_numbers.append(i)\n",
    "    return even_numbers, odd_numbers"
   ]
  },
  {
   "cell_type": "code",
   "execution_count": 2,
   "id": "d92fc502",
   "metadata": {},
   "outputs": [
    {
     "name": "stdout",
     "output_type": "stream",
     "text": [
      "Even numbers are: [12, 32, 66, 44]\n",
      "Odd numbers are: [25, 41, 29, 53]\n"
     ]
    }
   ],
   "source": [
    "lst=[12,25,32,66,41,29,53,44]\n",
    "even,odd=even_odd_num(lst)\n",
    "print('Even numbers are:',even)\n",
    "print('Odd numbers are:',odd)"
   ]
  },
  {
   "cell_type": "markdown",
   "id": "e4557247",
   "metadata": {},
   "source": [
    "# 2.Write and run a Python program that asks the user to enter 8 integers (one at a time), and then prints out how many of those integers were even numbers. For example, if the user entered 19, 6, 9, 20, 13, 7, 6, and 1, then your program should print out 3 since 3 of those numbers were even.\n"
   ]
  },
  {
   "cell_type": "code",
   "execution_count": 3,
   "id": "2a8d608c",
   "metadata": {},
   "outputs": [
    {
     "name": "stdout",
     "output_type": "stream",
     "text": [
      "Enter an integer: 19\n",
      "Enter an integer: 6\n",
      "Enter an integer: 9\n",
      "Enter an integer: 20\n",
      "Enter an integer: 13\n",
      "Enter an integer: 7\n",
      "Enter an integer: 6\n",
      "Enter an integer: 1\n",
      "Number of even numbers: 3\n"
     ]
    }
   ],
   "source": [
    "even = 0\n",
    "for i in range(8):\n",
    "    num = int(input('Enter an integer: '))\n",
    "    if num % 2 == 0:\n",
    "        even+= 1\n",
    "print(\"Number of even numbers:\", even)"
   ]
  },
  {
   "cell_type": "markdown",
   "id": "eba7611f",
   "metadata": {},
   "source": [
    "# 3.Write a Python program where you take any positive integer n, if n is even, divide it by 2 to get n/ 2. If n is odd, multiply it by 3 and add 1 to obtain 3n-1. Repeat the process until you reach 1.\n"
   ]
  },
  {
   "cell_type": "code",
   "execution_count": 41,
   "id": "108cb939",
   "metadata": {},
   "outputs": [
    {
     "name": "stdout",
     "output_type": "stream",
     "text": [
      "10 5 16 8 4 2 1 "
     ]
    }
   ],
   "source": [
    "def positive_integer(n):\n",
    "    while n > 1:\n",
    "        if n % 2 == 0:\n",
    "            n = n // 2\n",
    "            print(n,end=' ')\n",
    "        else:\n",
    "            n = 3 * n + 1\n",
    "            print(n,end=' ')\n",
    "positive_integer(3)"
   ]
  },
  {
   "cell_type": "markdown",
   "id": "387c60de",
   "metadata": {},
   "source": [
    "# 4. Write a Python program to compute the sum of all the multiples of 3 or 5 below 500.\n"
   ]
  },
  {
   "cell_type": "code",
   "execution_count": 11,
   "id": "4cc090e4",
   "metadata": {},
   "outputs": [
    {
     "name": "stdout",
     "output_type": "stream",
     "text": [
      "Sum of all the multiples of 3 or 5 below 500: 57918\n"
     ]
    }
   ],
   "source": [
    "sum=0\n",
    "for i in range(1,500):\n",
    "    if i%3==0 or i%5==0:\n",
    "        sum=sum+i\n",
    "print('Sum of all the multiples of 3 or 5 below 500:',sum)"
   ]
  },
  {
   "cell_type": "markdown",
   "id": "39d37588",
   "metadata": {},
   "source": [
    "# 5. To write a Python program to find first 'n' prime numbers from a list of given numbers."
   ]
  },
  {
   "cell_type": "code",
   "execution_count": 18,
   "id": "98d3cd4d",
   "metadata": {},
   "outputs": [
    {
     "name": "stdout",
     "output_type": "stream",
     "text": [
      "Enter number:15\n",
      "2 3 5 7 11 13 "
     ]
    }
   ],
   "source": [
    "number=int(input('Enter number:'))\n",
    "for num in range(1,number+1):  \n",
    "    if num > 1:  \n",
    "        for i in range(2,num):  \n",
    "            if(num%i)==0:  \n",
    "                break  \n",
    "        else:  \n",
    "            print (num,end=' ')  "
   ]
  },
  {
   "cell_type": "markdown",
   "id": "a82e2197",
   "metadata": {},
   "source": [
    "# 6. To write a Python program to compute matrix multiplication.\n"
   ]
  },
  {
   "cell_type": "code",
   "execution_count": null,
   "id": "4acbbdda",
   "metadata": {},
   "outputs": [],
   "source": []
  },
  {
   "cell_type": "markdown",
   "id": "90045723",
   "metadata": {},
   "source": [
    "# 7. Write a python Function to count the number of vowels in a string.\n"
   ]
  },
  {
   "cell_type": "code",
   "execution_count": 15,
   "id": "cd06431d",
   "metadata": {},
   "outputs": [
    {
     "name": "stdout",
     "output_type": "stream",
     "text": [
      "Enter a string:Pavan\n",
      "Number of vowels are: 2\n"
     ]
    }
   ],
   "source": [
    "string = input('Enter a string:')\n",
    "vowels=0\n",
    "string.lower()\n",
    "for i in string:\n",
    "    if(i=='a' or i=='e' or i=='i' or i=='o' or i=='u'):\n",
    "        vowels=vowels+1\n",
    "print('Number of vowels are:',vowels)"
   ]
  },
  {
   "cell_type": "markdown",
   "id": "132c848f",
   "metadata": {},
   "source": [
    "# 8. Write a python Function for finding factorial for the given number using a recursive function."
   ]
  },
  {
   "cell_type": "code",
   "execution_count": 16,
   "id": "2fadf9af",
   "metadata": {},
   "outputs": [
    {
     "name": "stdout",
     "output_type": "stream",
     "text": [
      "Enter a number:5\n",
      "Factorial of the number is: 120\n"
     ]
    }
   ],
   "source": [
    "n=int(input('Enter a number:'))\n",
    "fact=1\n",
    "while(n>0):\n",
    "    fact=fact*n\n",
    "    n=n-1\n",
    "print('Factorial of the number is:',fact)"
   ]
  },
  {
   "cell_type": "markdown",
   "id": "1891aac0",
   "metadata": {},
   "source": [
    "# 9.Write a python Function for generating the Fibonacci series using the function.\n"
   ]
  },
  {
   "cell_type": "code",
   "execution_count": 35,
   "id": "2a8292af",
   "metadata": {},
   "outputs": [
    {
     "name": "stdout",
     "output_type": "stream",
     "text": [
      "0\n",
      "1\n",
      "1 2 3 5 8 13 21 34 "
     ]
    }
   ],
   "source": [
    "def fibonacci(n):\n",
    "    x,y=0,1\n",
    "    if n==1:\n",
    "        print(x)\n",
    "    else:\n",
    "        print(x)\n",
    "        print(y)\n",
    "        for i in range(2,n):\n",
    "            z=x+y\n",
    "            x=y\n",
    "            y=z\n",
    "            print(z,end=' ')\n",
    "fibonacci(10)"
   ]
  },
  {
   "cell_type": "markdown",
   "id": "710a4408",
   "metadata": {},
   "source": [
    "# 10. Python program to display the given integer in reverse order using the function without an in-built function"
   ]
  },
  {
   "cell_type": "code",
   "execution_count": 21,
   "id": "2ef1b07a",
   "metadata": {},
   "outputs": [
    {
     "name": "stdout",
     "output_type": "stream",
     "text": [
      "Reverse order of number is: 4321\n"
     ]
    }
   ],
   "source": [
    "def rev(n):\n",
    "    rem=0\n",
    "    while(n>0):\n",
    "        a=n%10\n",
    "        rem=rem*10+a\n",
    "        n=n//10\n",
    "    print('Reverse order of number is:',rem)\n",
    "rev(1234)"
   ]
  },
  {
   "cell_type": "markdown",
   "id": "e271d69b",
   "metadata": {},
   "source": [
    "# 11. Write a Python Function to display all integers within the range 200-300 whose sum of digits is an even number."
   ]
  },
  {
   "cell_type": "code",
   "execution_count": 34,
   "id": "61315fa9",
   "metadata": {},
   "outputs": [
    {
     "name": "stdout",
     "output_type": "stream",
     "text": [
      "200 202 204 206 208 211 213 215 217 219 220 222 224 226 228 231 233 235 237 239 240 242 244 246 248 251 253 255 257 259 260 262 264 266 268 271 273 275 277 279 280 282 284 286 288 291 293 295 297 299 "
     ]
    }
   ],
   "source": [
    "def integers(a,b):\n",
    "    for i in range(a,b+1):\n",
    "        i=str(i)\n",
    "        sum=0\n",
    "        for j in i:\n",
    "            j=int(j)\n",
    "            sum=sum+j\n",
    "        if sum%2==0:\n",
    "            print(i,end=' ')\n",
    "integers(200,300)"
   ]
  },
  {
   "cell_type": "markdown",
   "id": "c3dea3d0",
   "metadata": {},
   "source": [
    "# 12. Write a python Function to find the number of digits and sum of digits for a given integer."
   ]
  },
  {
   "cell_type": "code",
   "execution_count": 2,
   "id": "bfd61011",
   "metadata": {},
   "outputs": [
    {
     "data": {
      "text/plain": [
       "(4, 14)"
      ]
     },
     "execution_count": 2,
     "metadata": {},
     "output_type": "execute_result"
    }
   ],
   "source": [
    "def count_and_sum_digits(n):\n",
    "    count = 0\n",
    "    digit_sum = 0\n",
    "    n = abs(n)\n",
    "    while n > 0:\n",
    "        digit = n % 10\n",
    "        count += 1\n",
    "        digit_sum += digit\n",
    "        n //= 10\n",
    "    return count, digit_sum\n",
    "count_and_sum_digits(2345)"
   ]
  },
  {
   "cell_type": "markdown",
   "id": "d6589d45",
   "metadata": {},
   "source": [
    "# 13.Write functions called is sorted that takes a list as a parameter and returns True if the list is sorted in ascending order and False otherwise and has duplicates that takes a list and returns True if there is any element that appears more than once. It should not modify the original list."
   ]
  },
  {
   "cell_type": "code",
   "execution_count": 5,
   "id": "f0bf6e14",
   "metadata": {},
   "outputs": [
    {
     "ename": "NameError",
     "evalue": "name 'is_sortes' is not defined",
     "output_type": "error",
     "traceback": [
      "\u001b[1;31m---------------------------------------------------------------------------\u001b[0m",
      "\u001b[1;31mNameError\u001b[0m                                 Traceback (most recent call last)",
      "Cell \u001b[1;32mIn[5], line 3\u001b[0m\n\u001b[0;32m      1\u001b[0m \u001b[38;5;28;01mdef\u001b[39;00m \u001b[38;5;21mis_sorted\u001b[39m(arr):\n\u001b[0;32m      2\u001b[0m     \u001b[38;5;28;01mreturn\u001b[39;00m \u001b[38;5;28mall\u001b[39m(arr[i] \u001b[38;5;241m<\u001b[39m\u001b[38;5;241m=\u001b[39m arr[i \u001b[38;5;241m+\u001b[39m \u001b[38;5;241m1\u001b[39m] \u001b[38;5;28;01mfor\u001b[39;00m i \u001b[38;5;129;01min\u001b[39;00m \u001b[38;5;28mrange\u001b[39m(\u001b[38;5;28mlen\u001b[39m(arr) \u001b[38;5;241m-\u001b[39m \u001b[38;5;241m1\u001b[39m))\n\u001b[1;32m----> 3\u001b[0m is_sortes(\u001b[38;5;241m1\u001b[39m,\u001b[38;5;241m2\u001b[39m,\u001b[38;5;241m3\u001b[39m,\u001b[38;5;241m4\u001b[39m,\u001b[38;5;241m5\u001b[39m)\n\u001b[0;32m      4\u001b[0m \u001b[38;5;28;01mdef\u001b[39;00m \u001b[38;5;21mhas_duplicates\u001b[39m(arr):\n\u001b[0;32m      5\u001b[0m     seen \u001b[38;5;241m=\u001b[39m \u001b[38;5;28mset\u001b[39m()\n",
      "\u001b[1;31mNameError\u001b[0m: name 'is_sortes' is not defined"
     ]
    }
   ],
   "source": []
  },
  {
   "cell_type": "code",
   "execution_count": 10,
   "id": "40b6bec5",
   "metadata": {},
   "outputs": [],
   "source": [
    "def is_sorted(arr):\n",
    "    return all(arr[i] <= arr[i + 1] for i in range(len(arr) - 1))\n",
    "\n",
    "def has_duplicates(arr):\n",
    "    seen = set()\n",
    "    for item in arr:\n",
    "        if item in seen:\n",
    "            return True\n",
    "        seen.add(item)\n",
    "    return False"
   ]
  },
  {
   "cell_type": "code",
   "execution_count": 12,
   "id": "68d20f13",
   "metadata": {},
   "outputs": [
    {
     "name": "stdout",
     "output_type": "stream",
     "text": [
      "Is sorted: True\n",
      "Has duplicates: False\n"
     ]
    }
   ],
   "source": [
    "sorted_list = [1, 2, 3, 4, 5]\n",
    "unsorted_list = [5, 2, 1, 4, 3]\n",
    "list_with_duplicates = [1, 2, 2, 3, 4]\n",
    "print('Is sorted:', is_sorted(sorted_list))   \n",
    "print('Has duplicates:', has_duplicates(sorted_list)) "
   ]
  },
  {
   "cell_type": "markdown",
   "id": "d734da1f",
   "metadata": {},
   "source": [
    "# 14.Write functions called nested sum that takes a list of integers and adds up the elements from all the nested lists and cumsum that takes a list of numbers and returns the cumulative sum; that is, a new list where the element is the sum of the first i + 1 elements from the original list"
   ]
  },
  {
   "cell_type": "code",
   "execution_count": 13,
   "id": "338df8cb",
   "metadata": {},
   "outputs": [],
   "source": [
    "def nested_sum(nested_list):\n",
    "    total = 0\n",
    "    for sublist in nested_list:\n",
    "        if isinstance(sublist, list):\n",
    "            total += nested_sum(sublist)\n",
    "        else:\n",
    "            total += sublist\n",
    "    return total"
   ]
  },
  {
   "cell_type": "code",
   "execution_count": 14,
   "id": "c6b890fb",
   "metadata": {},
   "outputs": [
    {
     "name": "stdout",
     "output_type": "stream",
     "text": [
      "Sum of elements in the nested list: 45\n"
     ]
    }
   ],
   "source": [
    "my_nested_list = [1, 2, [3, 4, [5, 6]], 7, [8, 9]]\n",
    "result = nested_sum(my_nested_list)\n",
    "print('Sum of elements in the nested list:', result)"
   ]
  },
  {
   "cell_type": "code",
   "execution_count": null,
   "id": "d71f77dc",
   "metadata": {},
   "outputs": [],
   "source": []
  }
 ],
 "metadata": {
  "kernelspec": {
   "display_name": "Python 3 (ipykernel)",
   "language": "python",
   "name": "python3"
  },
  "language_info": {
   "codemirror_mode": {
    "name": "ipython",
    "version": 3
   },
   "file_extension": ".py",
   "mimetype": "text/x-python",
   "name": "python",
   "nbconvert_exporter": "python",
   "pygments_lexer": "ipython3",
   "version": "3.11.4"
  }
 },
 "nbformat": 4,
 "nbformat_minor": 5
}
