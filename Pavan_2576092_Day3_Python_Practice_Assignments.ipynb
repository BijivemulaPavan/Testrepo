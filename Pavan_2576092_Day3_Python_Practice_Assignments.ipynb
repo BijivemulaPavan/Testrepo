{
 "cells": [
  {
   "cell_type": "code",
   "execution_count": 2,
   "id": "2abe0dd7",
   "metadata": {},
   "outputs": [],
   "source": [
    "file=open('f1.txt','w')\n",
    "file.write('This is pavan working in mphasis for a month and gained so much knowledge there and his favorite number is 6 , 1') \n",
    "file.close()"
   ]
  },
  {
   "cell_type": "code",
   "execution_count": 8,
   "id": "ace9ad6c",
   "metadata": {},
   "outputs": [],
   "source": [
    "file=open('f2.txt','w')\n",
    "file.write('This is the most beautiful day in my life and the date is 10-04-2001')\n",
    "file.close()"
   ]
  },
  {
   "cell_type": "markdown",
   "id": "360e12f9",
   "metadata": {},
   "source": [
    "# 1.Write a python function that copies a file reading and writing up to 50 characters at a time."
   ]
  },
  {
   "cell_type": "code",
   "execution_count": 16,
   "id": "42f08a24",
   "metadata": {},
   "outputs": [],
   "source": [
    "file1=open('demo1','r')\n",
    "file2=open('f1.txt','w')\n",
    "l=file1.readline()\n",
    "while l:\n",
    "    file2.write(l)\n",
    "    l=file1.readline()\n",
    "file1.close()\n",
    "file2.close()"
   ]
  },
  {
   "cell_type": "code",
   "execution_count": 20,
   "id": "ee259196",
   "metadata": {},
   "outputs": [],
   "source": [
    "def copy_file(src_filename, dest_filename):\n",
    "    try:\n",
    "        with open(src_filename, 'r') as src_file, open(dest_filename, 'w') as dest_file:\n",
    "            while True:\n",
    "                chunk = src_file.read(50)\n",
    "                if not chunk:\n",
    "                    break\n",
    "                dest_file.write(chunk)\n",
    "    except FileNotFoundError:\n",
    "        print(f\"File '{src_filename}' not found.\")\n",
    "    except Exception as e:\n",
    "        print(f\"An error occurred: {str(e)}\")\n",
    "source_file = 'demo1'\n",
    "destination_file = 'f1.txt'  \n",
    "copy_file('demo1', 'f1.txt')"
   ]
  },
  {
   "cell_type": "markdown",
   "id": "7d514aee",
   "metadata": {},
   "source": [
    "# 2.Print all numbers present in the text file and print the number of blank spaces in that file."
   ]
  },
  {
   "cell_type": "code",
   "execution_count": 27,
   "id": "465d8b29",
   "metadata": {},
   "outputs": [
    {
     "name": "stdout",
     "output_type": "stream",
     "text": [
      "Numbers in the file: [0]\n",
      "Number of blank spaces in the file: 0\n"
     ]
    }
   ],
   "source": [
    "def extract_numbers_and_count_blank_spaces(filename):\n",
    "    numbers = []\n",
    "    blank_space_count = 0\n",
    "    try:\n",
    "        with open(filename, 'r') as file:\n",
    "            for line in file:\n",
    "                for word in line.split():\n",
    "                    if word.isdigit():\n",
    "                        numbers.append(int(word))\n",
    "                    blank_space_count += word.count(' ')\n",
    "        print(\"Numbers in the file:\", numbers)\n",
    "        print(\"Number of blank spaces in the file:\", blank_space_count)\n",
    "    except FileNotFoundError:\n",
    "        print(f\"File '{filename}' not found.\")\n",
    "    except Exception as e:\n",
    "        print(f\"An error occurred: {str(e)}\")\n",
    "extract_numbers_and_count_blank_spaces('f1.txt')"
   ]
  },
  {
   "cell_type": "markdown",
   "id": "8b074f8a",
   "metadata": {},
   "source": [
    "# 3.Write a function called sed that takes as arguments a pattern string, a replacement string. and two filenames; it should read the first file and write the contents into the second file (creating it if necessary). If the pattern string appears anywhere in the file, it should be replaced with the replacement string. If an error occurs while opening, reading, writing. or closing files, your program should catch the exception, print an error message, and exit."
   ]
  },
  {
   "cell_type": "code",
   "execution_count": 32,
   "id": "9bfa7a96",
   "metadata": {},
   "outputs": [],
   "source": [
    "def sed(pattern, replacement, input_filename, output_filename):\n",
    "    try:\n",
    "        with open(input_filename, 'r') as input_file:\n",
    "            content = input_file.read()\n",
    "        modified_content = content.replace(pattern, replacement)\n",
    "        with open(output_filename, 'w') as output_file:\n",
    "            output_file.write(modified_content)\n",
    "    except FileNotFoundError:\n",
    "        print(f\"File '{input_filename}' not found.\")\n",
    "    except Exception as e:\n",
    "        print(f\"An error occurred: {str(e)}\") \n",
    "sed('demo1','demo2','f1.txt','f2.txt')"
   ]
  },
  {
   "cell_type": "markdown",
   "id": "b041d810",
   "metadata": {},
   "source": [
    "# 4. Log File Analysis: You have a log file containing records of user activities on a website. Each line in the file represents a log entry with details like timestamp, user ID, and action performed. Your task is to analyze this log file.\n",
    "a. Write Python code to read the log file and extract specific information, such as the number of unique users or the most common action.\n",
    "\n",
    "b. How would you handle large log files efficiently without loading the entire file into memory"
   ]
  },
  {
   "cell_type": "markdown",
   "id": "845a060c",
   "metadata": {},
   "source": [
    "# 5. Text File Search and Replace: You have a text file with a large amount of text, and you want to search for specific words or phrases and replace them with new content"
   ]
  },
  {
   "cell_type": "markdown",
   "id": "814e7076",
   "metadata": {},
   "source": [
    "# a.Write Python code to search for and replace text within a text file."
   ]
  },
  {
   "cell_type": "code",
   "execution_count": 33,
   "id": "b6648c27",
   "metadata": {},
   "outputs": [],
   "source": [
    "def search_and_replace(input_filename, output_filename, search_term, replace_term):\n",
    "    try:\n",
    "        with open(input_filename, 'r') as input_file, open(output_filename, 'w') as output_file:\n",
    "            for line in input_file:\n",
    "                modified_line = line.replace(search_term, replace_term)\n",
    "                output_file.write(modified_line)\n",
    "    except FileNotFoundError:\n",
    "        print(f\"Error: File '{input_filename}' not found.\")\n",
    "    except Exception as e:\n",
    "        print(f\"An error occurred: {str(e)}\")\n",
    "search_and_replace('f1.txt', 'f2.txt', 'sample.txt', 'sample1.txt')"
   ]
  },
  {
   "cell_type": "markdown",
   "id": "b964aca6",
   "metadata": {},
   "source": [
    "# b. How would you handle cases where you need to perform multiple replacements in a single pass?"
   ]
  },
  {
   "cell_type": "code",
   "execution_count": 34,
   "id": "9230ac31",
   "metadata": {},
   "outputs": [],
   "source": [
    "def search_and_replace_multiple(input_filename, output_filename, replacements):\n",
    "    try:\n",
    "        with open(input_filename, 'r') as input_file, open(output_filename, 'w') as output_file:\n",
    "            for line in input_file:\n",
    "                modified_line = line\n",
    "                for search_term, replace_term in replacements.items():\n",
    "                    modified_line = modified_line.replace(search_term, replace_term)\n",
    "                output_file.write(modified_line)\n",
    "    except FileNotFoundError:\n",
    "        print(f\"Error: File '{input_filename}' not found.\")\n",
    "    except Exception as e:\n",
    "        print(f\"An error occurred: {str(e)}\")\n",
    "input_file_name = 'f1.txt'  \n",
    "output_file_name = 'f2.txt'  \n",
    "replacements = {\n",
    "    'old_text1': 'sample',\n",
    "    'old_text2': 'sample1',\n",
    "}\n",
    "search_and_replace_multiple(input_file_name, output_file_name, replacements)"
   ]
  },
  {
   "cell_type": "markdown",
   "id": "0f227e99",
   "metadata": {},
   "source": [
    "# 6.Write a Python script that concatenates the contents of multiple text files into a single output file. Allow the user to specify the input files and the output file"
   ]
  },
  {
   "cell_type": "code",
   "execution_count": 37,
   "id": "b43f6f0b",
   "metadata": {},
   "outputs": [
    {
     "name": "stdout",
     "output_type": "stream",
     "text": [
      "Enter an input file name (or 'q' to quit): f1.txt\n",
      "Enter an input file name (or 'q' to quit): q\n",
      "Enter the output file name: q\n",
      "Concatenation completed. Output written to 'q'.\n"
     ]
    }
   ],
   "source": [
    "def concatenate_files(input_files, output_file):\n",
    "    try:\n",
    "        with open(output_file, 'w') as output:\n",
    "            for input_file in input_files:\n",
    "                with open(input_file, 'r') as input:\n",
    "                    output.write(input.read())\n",
    "        print(f\"Concatenation completed. Output written to '{output_file}'.\")\n",
    "    except FileNotFoundError:\n",
    "        print(\"Error: One or more input files not found.\")\n",
    "    except Exception as e:\n",
    "        print(f\"An error occurred: {str(e)}\")\n",
    "\n",
    "def main():\n",
    "    input_files = []\n",
    "    while True:\n",
    "        file_name = input(\"Enter an input file name (or 'q' to quit): \")\n",
    "        if file_name.lower() == 'q':\n",
    "            break\n",
    "        input_files.append(file_name)\n",
    "\n",
    "    if len(input_files) == 0:\n",
    "        print(\"No input files specified. Exiting.\")\n",
    "        return\n",
    "\n",
    "    output_file = input(\"Enter the output file name: \")\n",
    "\n",
    "    concatenate_files(input_files, output_file)\n",
    "\n",
    "if __name__ == \"__main__\":\n",
    "    main()\n"
   ]
  },
  {
   "cell_type": "markdown",
   "id": "2ece8f8e",
   "metadata": {},
   "source": [
    "# 7.You are given a text file named input.txt containing a list of words, one word per line Your task is to create a Python program that reads the contents of input.txt, processes the words, and writes the result to an output file named output.txt."
   ]
  },
  {
   "cell_type": "code",
   "execution_count": 1,
   "id": "89666f02",
   "metadata": {},
   "outputs": [
    {
     "name": "stdout",
     "output_type": "stream",
     "text": [
      "Processing completed. Results written to 'output.txt'.\n"
     ]
    }
   ],
   "source": [
    "def process_words(input_file, output_file):\n",
    "    try:\n",
    "        with open(input_file, 'r') as infile, open(output_file, 'w') as outfile:\n",
    "            for line in infile:\n",
    "                word = line.strip()\n",
    "                processed_word = word.upper() \n",
    "                outfile.write(processed_word + '\\n') \n",
    "        print(f\"Processing completed. Results written to '{output_file}'.\")\n",
    "    except FileNotFoundError:\n",
    "        print(f\"Error: File '{input_file}' not found.\")\n",
    "    except Exception as e:\n",
    "        print(f\"An error occurred: {str(e)}\")\n",
    "\n",
    "def main():\n",
    "    input_file = 'input.txt'\n",
    "    output_file = 'output.txt' \n",
    "\n",
    "    process_words(input_file, output_file)\n",
    "\n",
    "if __name__ == \"__main__\":\n",
    "    main()"
   ]
  },
  {
   "cell_type": "markdown",
   "id": "7d2ab684",
   "metadata": {},
   "source": [
    "# 8. Assume that you are developing a student gradebook system for a school. The system should allow teachers to input student grades for various subjects, store the data in files, and provide students with the ability to view their grades.\n",
    "\n",
    "Design a Python program that accomplishes the following tasks:\n",
    "\n",
    "1. Teachers should be able to input grades for students in different subjects\n",
    "\n",
    "ii. Store the student grade data in separate text files for each subject.\n",
    "\n",
    "iii. Students should be able to view their grades for each subject.\n",
    "\n",
    "iv. Implement error handling for file operations, such as file not found or permission issues"
   ]
  },
  {
   "cell_type": "code",
   "execution_count": 46,
   "id": "5c6b7a19",
   "metadata": {},
   "outputs": [],
   "source": [
    "import os\n",
    "#1. Teachers should be able to input grades for students in different subjects\n",
    "\n",
    "def input_grades():\n",
    "    subject = input(\"Enter the subject: \")\n",
    "    student_name = input(\"Enter the student's name: \")\n",
    "    grade = input(\"Enter the grade: \")\n",
    "\n",
    "#ii. Store the student grade data in separate text files for each subject.\n",
    "\n",
    "    filename = f\"{subject}.txt\"\n",
    "    with open(filename, 'a') as file:\n",
    "        file.write(f\"{student_name}: {grade}\\n\")\n",
    "    print(f\"Grade for {student_name} in {subject} saved successfully.\")\n",
    "    \n",
    "#iii. Students should be able to view their grades for each subject.\n",
    "\n",
    "def view_grades():\n",
    "    subject = input(\"Enter the subject to view grades: \")\n",
    "    filename = f\"{subject}.txt\"\n",
    "    \n",
    "#iv. Implement error handling for file operations, such as file not found or permission issues\n",
    "    \n",
    "    try:\n",
    "        with open(filename, 'r') as file:\n",
    "            print(file.read())\n",
    "    except FileNotFoundError:\n",
    "        print(f\"Grades for {subject} not found.\")\n",
    "    except Exception as e:\n",
    "        print(f\"An error occurred: {str(e)}\")\n",
    "\n",
    "def main():\n",
    "    while True:\n",
    "        print(\"Student Gradebook System\")\n",
    "        print(\"1. Input Grades (Teacher)\")\n",
    "        print(\"2. View Grades (Student)\")\n",
    "        print(\"3. Exit\")\n",
    "        \n",
    "        choice = input(\"Select an option: \")\n",
    "        \n",
    "        if choice == '1':\n",
    "            input_grades()\n",
    "        elif choice == '2':\n",
    "            view_grades()\n",
    "        elif choice == '3':\n",
    "            break\n",
    "        else:\n",
    "            print(\"Invalid choice. Please select a valid option.\")\n",
    "\n",
    "if __name__ == \"__main__\":\n",
    "    main()\n"
   ]
  }
 ],
 "metadata": {
  "kernelspec": {
   "display_name": "Python 3 (ipykernel)",
   "language": "python",
   "name": "python3"
  },
  "language_info": {
   "codemirror_mode": {
    "name": "ipython",
    "version": 3
   },
   "file_extension": ".py",
   "mimetype": "text/x-python",
   "name": "python",
   "nbconvert_exporter": "python",
   "pygments_lexer": "ipython3",
   "version": "3.11.4"
  }
 },
 "nbformat": 4,
 "nbformat_minor": 5
}
