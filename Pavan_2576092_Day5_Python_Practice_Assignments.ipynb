{
 "cells": [
  {
   "cell_type": "markdown",
   "id": "cb6dc87f",
   "metadata": {},
   "source": [
    "# Database programming with MySql"
   ]
  },
  {
   "cell_type": "markdown",
   "id": "c41cfe03",
   "metadata": {},
   "source": [
    "# 1. Implement Inventory Management in Python with MySQL\n",
    "\n",
    "a) Inventory management, a critical element of the supply chain, is the tracking of inventory from manufacturers to warehouses and from these facilities to a point of sale. The goal of inventory management is to have the right products in the right place at the right time\n",
    "\n",
    "b) The required Database is Inventory, and the required Tables are Purchases, Sales and Inventory \n",
    "\n",
    "c) Note: Apply your thoughts to demonstrate the DB Operation in Python,\n"
   ]
  },
  {
   "cell_type": "code",
   "execution_count": 9,
   "id": "95a15f1a",
   "metadata": {},
   "outputs": [],
   "source": [
    "import mysql.connector\n",
    "\n",
    "conn=mysql.connector.connect(host='127.0.0.1',user='root',password='2001',database='Inventory')"
   ]
  },
  {
   "cell_type": "code",
   "execution_count": 10,
   "id": "d93f53b8",
   "metadata": {},
   "outputs": [],
   "source": [
    "curs=conn.cursor()"
   ]
  },
  {
   "cell_type": "code",
   "execution_count": 54,
   "id": "9f2c7ae9",
   "metadata": {},
   "outputs": [
    {
     "name": "stdout",
     "output_type": "stream",
     "text": [
      "1 record inserted\n"
     ]
    }
   ],
   "source": [
    "pur_insert=\"insert into purchases(purchase_id,product_name,purchase_date,quantity)values(%s,%s,%s,%s)\"\n",
    "pur_value=('123','cricket kit','2023-09-15',20)\n",
    "curs.execute(pur_insert,pur_value)\n",
    "conn.commit()\n",
    "print(curs.rowcount,'record inserted')"
   ]
  },
  {
   "cell_type": "code",
   "execution_count": 55,
   "id": "da782117",
   "metadata": {},
   "outputs": [
    {
     "name": "stdout",
     "output_type": "stream",
     "text": [
      "1 record inserted\n"
     ]
    }
   ],
   "source": [
    "sal_insert=\"insert into sales(sale_id,product_name,sale_date,quantity)values(%s,%s,%s,%s)\"\n",
    "sal_value=(450,'Baseballl kit','2023-09-15',25)\n",
    "curs.execute(sal_insert,sal_value)\n",
    "conn.commit()\n",
    "print(curs.rowcount,'record inserted')"
   ]
  },
  {
   "cell_type": "code",
   "execution_count": 56,
   "id": "f5db1645",
   "metadata": {},
   "outputs": [
    {
     "name": "stdout",
     "output_type": "stream",
     "text": [
      "1 record inserted\n"
     ]
    }
   ],
   "source": [
    "inv_insert=\"insert into inventory(product_name,quantity)values(%s,%s)\"\n",
    "inv_value=('Vollyball kit',40)\n",
    "curs.execute(inv_insert,inv_value)\n",
    "conn.commit()\n",
    "print(curs.rowcount,'record inserted')"
   ]
  },
  {
   "cell_type": "markdown",
   "id": "455c89d7",
   "metadata": {},
   "source": [
    "# 2. Customer Order Processing\n",
    "Scenario: You are building a customer order processing system for an e-commerce company. The system needs to interact with a MySQL database to store customer orders, products, and order details\n",
    "\n",
    "1. Design a MySQL database schema for the order processing system, including tables for  customers, products, and orders.\n",
    "\n",
    "2. Write a Python program that connects to the database and allows customers to place new orders\n",
    "\n",
    "3. Implement a feature that calculates the total cost of an order and updates product quantities in the database.\n",
    "\n",
    "4. How would you handle cases where a product is no longer available when a customer places an order? \n",
    "\n",
    "5. Develop a function to generate order reports for the company's finance department."
   ]
  },
  {
   "cell_type": "code",
   "execution_count": 5,
   "id": "5c5816cd",
   "metadata": {},
   "outputs": [
    {
     "ename": "TypeError",
     "evalue": "'>' not supported between instances of 'int' and 'list'",
     "output_type": "error",
     "traceback": [
      "\u001b[1;31m---------------------------------------------------------------------------\u001b[0m",
      "\u001b[1;31mTypeError\u001b[0m                                 Traceback (most recent call last)",
      "Cell \u001b[1;32mIn[5], line 12\u001b[0m\n\u001b[0;32m     10\u001b[0m     \u001b[38;5;28mprint\u001b[39m(\u001b[38;5;124m'\u001b[39m\u001b[38;5;124mProduct not found\u001b[39m\u001b[38;5;124m'\u001b[39m)\n\u001b[0;32m     11\u001b[0m avail_quantity,price\u001b[38;5;241m=\u001b[39mresult,result\n\u001b[1;32m---> 12\u001b[0m \u001b[38;5;28;01mif\u001b[39;00m quantity\u001b[38;5;241m>\u001b[39mavail_quantity:\n\u001b[0;32m     13\u001b[0m     \u001b[38;5;28mprint\u001b[39m(\u001b[38;5;124m\"\u001b[39m\u001b[38;5;124mInsufficient products\u001b[39m\u001b[38;5;124m\"\u001b[39m)\n\u001b[0;32m     15\u001b[0m total\u001b[38;5;241m=\u001b[39mquantity\u001b[38;5;241m*\u001b[39mprice\n",
      "\u001b[1;31mTypeError\u001b[0m: '>' not supported between instances of 'int' and 'list'"
     ]
    }
   ],
   "source": [
    "# 1)Tables are created for customers,products,and orders,order_details.\n",
    "\n",
    "#2) Write a Python program that connects to the database and allows customers to place new orders\n",
    "cust_id=1\n",
    "product_id=1\n",
    "quantity=5\n",
    "curs.execute(\"Select*from products\")\n",
    "result=curs.fetchall()\n",
    "if result is None:\n",
    "    print('Product not found')\n",
    "avail_quantity,price=result,result\n",
    "if quantity>avail_quantity:\n",
    "    print(\"Insufficient products\")\n",
    "\n",
    "total=quantity*price\n",
    "conn.commit()\n",
    "print('order placed successfully',order_id)\n",
    "curs.close()\n",
    "conn.close()"
   ]
  },
  {
   "cell_type": "code",
   "execution_count": 11,
   "id": "ee2c4d3b",
   "metadata": {},
   "outputs": [
    {
     "name": "stdout",
     "output_type": "stream",
     "text": [
      "Error placing order: 1054 (42S22): Unknown column 'quantity_available' in 'field list'\n"
     ]
    }
   ],
   "source": [
    "def place_order(customer_id, product_id, quantity_ordered):\n",
    "    try:\n",
    "        # Check if the product is available\n",
    "        curs.execute(\"SELECT quantity_available FROM Products WHERE product_id = %s\", (product_id,))\n",
    "        available_quantity = cursor.fetchone()[0]\n",
    "\n",
    "        if available_quantity >= quantity_ordered:\n",
    "            # Calculate the subtotal\n",
    "            curs.execute(\"SELECT price FROM Products WHERE product_id = %s\", (product_id,))\n",
    "            price = cursor.fetchone()[0]\n",
    "            subtotal = price * quantity_ordered\n",
    "\n",
    "            # Insert the order and order details into the database\n",
    "            curs.execute(\"INSERT INTO Orders (customer_id, status) VALUES (%s, 'processing')\", (customer_id,))\n",
    "            order_id = cursor.lastrowid\n",
    "            curs.execute(\"INSERT INTO OrderDetails (order_id, product_id, quantity_ordered, subtotal) VALUES (%s, %s, %s, %s)\",\n",
    "                           (order_id, product_id, quantity_ordered, subtotal))\n",
    "\n",
    "            # Update product quantity\n",
    "            new_quantity = available_quantity - quantity_ordered\n",
    "            curs.execute(\"UPDATE Products SET quantity_available = %s WHERE product_id = %s\", (new_quantity, product_id))\n",
    "\n",
    "            conn.commit()\n",
    "            print(\"Order placed successfully!\")\n",
    "        else:\n",
    "            print(\"Product is not available in the requested quantity.\")\n",
    "    except Exception as e:\n",
    "        conn.rollback()\n",
    "        print(\"Error placing order:\", str(e))\n",
    "    finally:\n",
    "        curs.close()\n",
    "        conn.close()\n",
    "\n",
    "# Example usage\n",
    "place_order(1, 2, 3)"
   ]
  },
  {
   "cell_type": "markdown",
   "id": "e7b13e92",
   "metadata": {},
   "source": [
    "# 3.You are tasked with developing a Python program that connects to a MySQL database, retrieves data from a table, performs some operations on the data, and updates the database with the modified data. Please write Python code to accomplish this task.\n",
    "\n",
    "Instructions:\n",
    "\n",
    "1. Assume that you have a MySQL database server running with the following details\n",
    "\n",
    "a)Host: localhost\n",
    "\n",
    "b) Port: 3306\n",
    "\n",
    "c)Username: your username \n",
    "\n",
    "d). Password: your password\n",
    "\n",
    "e). Database Name: your database.\n",
    "\n",
    "f). Table Name: your table\n",
    "\n",
    "g). The table has the following columns: id (int), name (varchar), quantity (int).\n",
    "\n",
    "2. Your Python program should:\n",
    "\n",
    "a)Connect to the MySQL database.\n",
    "\n",
    "b)Retrieve all records from the your table table \n",
    "\n",
    "c). Calculate the total quantity of all records retrieved.\n",
    "\n",
    "d). Update the quantity column of each record by doubling its value \n",
    "\n",
    "e). Commit the changes to the database\n",
    "\n",
    "f). Close the database connection.\n",
    "\n",
    "3. Handle any potential errors that may occur during the database connection and data manipulation, such as connection failures or SQL errors. \n",
    "\n",
    "4. Provide comments in your code to explain each step."
   ]
  },
  {
   "cell_type": "code",
   "execution_count": 16,
   "id": "9a3f15b0",
   "metadata": {},
   "outputs": [],
   "source": [
    "#a)Connect to the MySQL database.\n",
    "import mysql.connector\n",
    "conn=mysql.connector.connect(host='localhost',port='3306',user='root',password='2001',database='ps3')"
   ]
  },
  {
   "cell_type": "code",
   "execution_count": 17,
   "id": "634b467a",
   "metadata": {},
   "outputs": [],
   "source": [
    "curs=conn.cursor()"
   ]
  },
  {
   "cell_type": "code",
   "execution_count": 18,
   "id": "59f4cfbd",
   "metadata": {},
   "outputs": [
    {
     "name": "stdout",
     "output_type": "stream",
     "text": [
      "(1, 'lemons', 50)\n",
      "(2, 'apples', 200)\n",
      "(3, 'oranges', 85)\n",
      "(4, 'kiwi', 85)\n"
     ]
    }
   ],
   "source": [
    "#b)Retrieve all records from the your table table\n",
    "\n",
    "curs.execute('Select*from pavan')\n",
    "results=curs.fetchall()\n",
    "for i in results:\n",
    "    print(i)"
   ]
  },
  {
   "cell_type": "code",
   "execution_count": 19,
   "id": "f41462a9",
   "metadata": {},
   "outputs": [
    {
     "name": "stdout",
     "output_type": "stream",
     "text": [
      "Total quantity: 0\n",
      "Database updated successfully.\n"
     ]
    }
   ],
   "source": [
    "#c). Calculate the total quantity of all records retrieved.\n",
    "total_quantity = 0\n",
    "for results in result:\n",
    "    id,name,quantity=result\n",
    "    total_quantity+=quantity\n",
    "    new_quantity=quantity*2\n",
    "\n",
    "#d). Update the quantity column of each record by doubling its value \n",
    "curs.execute(\"update pavan SET quantity = quantity*2 where id = 2 \") \n",
    "\n",
    "#e). Commit the changes to the database\n",
    "conn.commit()       \n",
    "\n",
    "    # f). Close the database connection.\n",
    "curs.close()\n",
    "conn.close()\n",
    "\n",
    "    # Print the total quantity\n",
    "print('Total quantity:',total_quantity)\n",
    "print(\"Database updated successfully.\")"
   ]
  },
  {
   "cell_type": "markdown",
   "id": "25d7abd2",
   "metadata": {},
   "source": [
    "# 4. You are developing an employee management system for a company. The datable should store employer information, including name, salary, department, and hire date Managers should be able to wew and update employee details...\n",
    "\n",
    "1. Design the database schema for the employee management system.\n",
    "\n",
    "2. Write Python code to connect to the database and retrieve a list of employees in a specific department\n",
    "\n",
    "3. Implement a feature to update an employee's salary"
   ]
  },
  {
   "cell_type": "code",
   "execution_count": 28,
   "id": "a6fa554e",
   "metadata": {},
   "outputs": [],
   "source": [
    "import mysql.connector\n",
    "conn=mysql.connector.connect(host='localhost',port='3306',user='root',password='2001',database='ps3')"
   ]
  },
  {
   "cell_type": "code",
   "execution_count": 29,
   "id": "4f72b663",
   "metadata": {},
   "outputs": [],
   "source": [
    "curs=conn.cursor()"
   ]
  },
  {
   "cell_type": "code",
   "execution_count": 30,
   "id": "4cf06876",
   "metadata": {},
   "outputs": [
    {
     "ename": "IndentationError",
     "evalue": "unexpected indent (3210223056.py, line 3)",
     "output_type": "error",
     "traceback": [
      "\u001b[1;36m  Cell \u001b[1;32mIn[30], line 3\u001b[1;36m\u001b[0m\n\u001b[1;33m    curs.execute(\"SELECT employee_id, first_name, last_name, salary FROM Employee \"\u001b[0m\n\u001b[1;37m    ^\u001b[0m\n\u001b[1;31mIndentationError\u001b[0m\u001b[1;31m:\u001b[0m unexpected indent\n"
     ]
    }
   ],
   "source": [
    "# Retrieve employees in the specified department\n",
    " #department_name = \"HR\"  # Replace with the desired department name\n",
    "    curs.execute(\"SELECT employee_id, first_name, last_name, salary FROM Employees1 \"\n",
    "                   \"INNER JOIN Departments ON Employee.department_id = Departments.department_id \"\n",
    "                   \"WHERE Departments.department_name = %s\", (department_name,))\n",
    "    employee = curs.fetchall()"
   ]
  },
  {
   "cell_type": "markdown",
   "id": "e0cfc6de",
   "metadata": {},
   "source": [
    "# Modules and Virtual Environments"
   ]
  },
  {
   "cell_type": "markdown",
   "id": "1d706bf3",
   "metadata": {},
   "source": [
    "# 1. Module Import and Management\n",
    "\n",
    "Scenario: You are developing a complex Python project with multiple modules. To manage the project effectively, you need to import and use various modules. Additionally, you want to organize your code using namespaces and avoid naming conflicts.\n",
    "\n",
    "Design a Python program that demonstrates the following:\n",
    "\n",
    "1. Import multiple modules within your project.\n",
    "\n",
    "2. Use the import statement to access functions, classes, and variables from imported modules.\n",
    "\n",
    "3. Create your custom module and use it in your main program.\n",
    "\n",
    "4. Handle naming conflicts and ensure proper namespacing.\n",
    "\n",
    "5. Implement error handling for missing modules or incorrect module usage.\n"
   ]
  },
  {
   "cell_type": "code",
   "execution_count": 3,
   "id": "5a1546b3",
   "metadata": {},
   "outputs": [],
   "source": [
    "# 1. Import multiple modules within your project.\n",
    "import math\n",
    "import random\n",
    "import time"
   ]
  },
  {
   "cell_type": "code",
   "execution_count": 4,
   "id": "44f769d3",
   "metadata": {},
   "outputs": [
    {
     "name": "stdout",
     "output_type": "stream",
     "text": [
      "Square root of 64: 8.0\n",
      "Random number between 1 and 50: 45\n",
      "Current time: Sat Sep 16 10:39:03 2023\n"
     ]
    }
   ],
   "source": [
    "# 2. Use the import statement to access functions, classes, and variables from imported modules.\n",
    "# Using functions from the math module\n",
    "sqrt_result = math.sqrt(64)\n",
    "print('Square root of 64:', sqrt_result)\n",
    "\n",
    "# Using functions from random module\n",
    "random_num = random.randint(1,50)\n",
    "print('Random number between 1 and 50:', random_num)\n",
    "\n",
    "# Using function from time module\n",
    "print('Current time:',time.ctime())"
   ]
  },
  {
   "cell_type": "code",
   "execution_count": 14,
   "id": "014ea0ed",
   "metadata": {},
   "outputs": [],
   "source": [
    "# 3. Create your custom module and use it in your main program.\n",
    "def fibo(n):\n",
    "    a,b=0,1\n",
    "    while a<n:\n",
    "        print(a,end=' ')\n",
    "        a,b=b,a+b\n",
    "        print()\n",
    "def fibo_1(n):\n",
    "    result=[]\n",
    "    a,b=0,1\n",
    "    while a<n:\n",
    "        result.append(a)\n",
    "        a,b=b,a+b\n",
    "        return result\n",
    "def fact(n):\n",
    "    if n==1:\n",
    "        return n\n",
    "    else:\n",
    "        return n*fact(n-1)"
   ]
  },
  {
   "cell_type": "code",
   "execution_count": 27,
   "id": "81ad17ce",
   "metadata": {},
   "outputs": [],
   "source": [
    "import fact"
   ]
  },
  {
   "cell_type": "code",
   "execution_count": 30,
   "id": "312b66e6",
   "metadata": {},
   "outputs": [
    {
     "data": {
      "text/plain": [
       "40320"
      ]
     },
     "execution_count": 30,
     "metadata": {},
     "output_type": "execute_result"
    }
   ],
   "source": [
    "fact.fact(8)"
   ]
  },
  {
   "cell_type": "code",
   "execution_count": 35,
   "id": "baf2dbbd",
   "metadata": {},
   "outputs": [
    {
     "name": "stdout",
     "output_type": "stream",
     "text": [
      "Custom variable using namespace: <function fact at 0x000001622F44BE20>\n"
     ]
    }
   ],
   "source": [
    "# 4. Handle naming conflicts and ensure proper namespacing.\n",
    "import fact as cm\n",
    "\n",
    "# Access the custom_variable from fact using the custom namespace\n",
    "print(\"Custom variable using namespace:\", cm.fact)"
   ]
  },
  {
   "cell_type": "code",
   "execution_count": 36,
   "id": "13b4e47f",
   "metadata": {},
   "outputs": [
    {
     "name": "stdout",
     "output_type": "stream",
     "text": [
      "Import error: No module named 'non_existent_module'\n",
      "Attribute error: module 'math' has no attribute 'non_existent_function'\n",
      "Value error: math domain error\n"
     ]
    }
   ],
   "source": [
    "# 5. Implement error handling for missing modules or incorrect module usage.\n",
    "try:\n",
    "    import non_existent_module  # Attempt to import a non-existent module\n",
    "except ImportError as e:\n",
    "    print(f\"Import error: {e}\")\n",
    "\n",
    "try:\n",
    "    result = math.non_existent_function()  # Attempt to use a non-existent function\n",
    "except AttributeError as e:\n",
    "    print(f\"Attribute error: {e}\")\n",
    "\n",
    "# Using a function from the 'math' module with incorrect arguments\n",
    "try:\n",
    "    result = math.sqrt(-25)\n",
    "except ValueError as e:\n",
    "    print(f\"Value error: {e}\")\n"
   ]
  },
  {
   "cell_type": "markdown",
   "id": "6dfec266",
   "metadata": {},
   "source": [
    "# 2. Virtual Environment Management\n",
    "\n",
    "Scenario: You are working on multiple Python projects with different dependencies and versions. To avoid conflicts and ensure project isolation, you decide to use virtual environments.\n",
    "\n",
    "Create a Python program that demonstrates the following:\n",
    "\n",
    "1. Create a virtual environment for a specific project.\n",
    "\n",
    "2. Activate and deactivate virtual environments.\n",
    "\n",
    "3. Install, upgrade, and uninstall packages within a virtual environment.. 4. List the installed packages in a virtual environment.\n",
    "\n",
    "5. Implement error handling for virtual environment operations."
   ]
  },
  {
   "cell_type": "code",
   "execution_count": 40,
   "id": "8364fa46",
   "metadata": {},
   "outputs": [],
   "source": [
    "import os\n",
    "import sys\n",
    "import subprocess\n",
    "\n",
    "# Function to create a virtual environment\n",
    "def create_virtual_environment(venv_name):\n",
    "    try:\n",
    "        subprocess.run([sys.executable, \"-m\", \"venv\", venv_name], check=True)\n",
    "        print(f\"Virtual environment '{venv_name}' created successfully.\")\n",
    "    except subprocess.CalledProcessError as e:\n",
    "        print(f\"Error creating virtual environment: {e}\")\n",
    "\n",
    "# Function to activate a virtual environment\n",
    "def activate_virtual_environment(venv_name):\n",
    "    try:\n",
    "        activate_script = os.path.join(venv_name, \"Scripts\" if sys.platform == \"win32\" else \"bin\", \"activate\")\n",
    "        subprocess.run([activate_script], shell=True, check=True)\n",
    "        print(f\"Activated virtual environment: {venv_name}\")\n",
    "    except subprocess.CalledProcessError as e:\n",
    "        print(f\"Error activating virtual environment: {e}\")\n",
    "\n",
    "# Function to deactivate a virtual environment\n",
    "def deactivate_virtual_environment():\n",
    "    try:\n",
    "        subprocess.run([\"deactivate\"], shell=True, check=True)\n",
    "        print(\"Deactivated virtual environment.\")\n",
    "    except subprocess.CalledProcessError as e:\n",
    "        print(f\"Error deactivating virtual environment: {e}\")\n",
    "\n",
    "# Function to install, upgrade, or uninstall packages within a virtual environment\n",
    "def manage_packages(venv_name, operation, package_name):\n",
    "    try:\n",
    "        subprocess.run([sys.executable, \"-m\", \"pip\", operation, package_name], check=True, env={\"VIRTUAL_ENV\": venv_name})\n",
    "        print(f\"Package '{package_name}' {operation}ed successfully in virtual environment '{venv_name}'.\")\n",
    "    except subprocess.CalledProcessError as e:\n",
    "        print(f\"Error performing package operation: {e}\")\n",
    "\n",
    "# Function to list installed packages in a virtual environment\n",
    "def list_installed_packages(venv_name):\n",
    "    try:\n",
    "        result = subprocess.run([sys.executable, \"-m\", \"pip\", \"freeze\"], stdout=subprocess.PIPE, text=True, env={\"VIRTUAL_ENV\": venv_name}, check=True)\n",
    "        installed_packages = result.stdout.split('\\n')\n",
    "        print(f\"Installed packages in virtual environment '{venv_name}':\")\n",
    "        for package in installed_packages:\n",
    "            print(package)\n",
    "    except subprocess.CalledProcessError as e:\n",
    "        print(f\"Error listing installed packages: {e}\")\n",
    "\n",
    "if __name__ == \"__main__\":\n",
    "    # Specify the name of your virtual environment\n",
    "    venv_name = \"my_virtual_env\""
   ]
  },
  {
   "cell_type": "code",
   "execution_count": 41,
   "id": "2a88d3e2",
   "metadata": {},
   "outputs": [
    {
     "name": "stdout",
     "output_type": "stream",
     "text": [
      "Virtual environment 'my_virtual_env' created successfully.\n"
     ]
    }
   ],
   "source": [
    "# 1.Create a virtual environment for a specific project.\n",
    "create_virtual_environment(venv_name)"
   ]
  },
  {
   "cell_type": "code",
   "execution_count": 42,
   "id": "09edac69",
   "metadata": {},
   "outputs": [
    {
     "name": "stdout",
     "output_type": "stream",
     "text": [
      "Activated virtual environment: my_virtual_env\n"
     ]
    }
   ],
   "source": [
    "#2.Activate the virtual environment.\n",
    "activate_virtual_environment(venv_name)"
   ]
  },
  {
   "cell_type": "code",
   "execution_count": 44,
   "id": "5b0f347f",
   "metadata": {},
   "outputs": [
    {
     "name": "stdout",
     "output_type": "stream",
     "text": [
      "Error performing package operation: Command '['C:\\\\Users\\\\Bijivemula Pavan\\\\anaconda3\\\\python.exe', '-m', 'pip', 'install', 'requests']' returned non-zero exit status 1.\n",
      "Error performing package operation: Command '['C:\\\\Users\\\\Bijivemula Pavan\\\\anaconda3\\\\python.exe', '-m', 'pip', 'install --upgrade', 'numpy']' returned non-zero exit status 1.\n",
      "Error performing package operation: Command '['C:\\\\Users\\\\Bijivemula Pavan\\\\anaconda3\\\\python.exe', '-m', 'pip', 'uninstall -y', 'requests']' returned non-zero exit status 1.\n"
     ]
    }
   ],
   "source": [
    "#3.Install, upgrade, or uninstall packages within the virtual environment.\n",
    "manage_packages(venv_name, \"install\", \"requests\")\n",
    "manage_packages(venv_name, \"install --upgrade\", \"numpy\")\n",
    "manage_packages(venv_name, \"uninstall -y\", \"requests\")"
   ]
  },
  {
   "cell_type": "code",
   "execution_count": 45,
   "id": "2013b4db",
   "metadata": {},
   "outputs": [
    {
     "name": "stdout",
     "output_type": "stream",
     "text": [
      "Error listing installed packages: Command '['C:\\\\Users\\\\Bijivemula Pavan\\\\anaconda3\\\\python.exe', '-m', 'pip', 'freeze']' returned non-zero exit status 1.\n"
     ]
    }
   ],
   "source": [
    "# 4. List the installed packages in the virtual environment.\n",
    "list_installed_packages(venv_name)"
   ]
  },
  {
   "cell_type": "code",
   "execution_count": 46,
   "id": "6d900e25",
   "metadata": {},
   "outputs": [
    {
     "name": "stdout",
     "output_type": "stream",
     "text": [
      "Error deactivating virtual environment: Command '['deactivate']' returned non-zero exit status 1.\n"
     ]
    }
   ],
   "source": [
    "# 5. Deactivate the virtual environment.\n",
    "deactivate_virtual_environment()"
   ]
  },
  {
   "cell_type": "markdown",
   "id": "79fee27d",
   "metadata": {},
   "source": [
    "# 3. Module Dependency Resolution\n",
    "\n",
    "Scenario: You are developing a Python application that relies on third-party packages. Managing dependencies and ensuring compatibility is crucial for your project's success.\n",
    "\n",
    "Design a Python program that demonstrates the following:\n",
    "\n",
    "1. Use a requirements.txt file to specify project dependencies.\n",
    "\n",
    "2. Automatically install all project dependencies from the requirements.txt file.\n",
    "\n",
    "3 Ensure that the versions of installed packages are compatible.\n",
    "\n",
    "4. Implement error handling for dependency resolution and installation."
   ]
  },
  {
   "cell_type": "code",
   "execution_count": 49,
   "id": "0eb55669",
   "metadata": {},
   "outputs": [
    {
     "name": "stdout",
     "output_type": "stream",
     "text": [
      "Dependencies installed successfully.\n"
     ]
    }
   ],
   "source": [
    "import subprocess\n",
    "\n",
    "# Function to install project dependencies from requirements.txt\n",
    "def install_dependencies(requirements_file):\n",
    "    try:\n",
    "        subprocess.run([\"pip\", \"install\", \"-r\", requirements_file], check=True)\n",
    "        print(\"Dependencies installed successfully.\")\n",
    "    except subprocess.CalledProcessError as e:\n",
    "        print(f\"Error installing dependencies: {e}\")\n",
    "\n",
    "if __name__ == \"__main__\":\n",
    "    # 1. Specify the path to the requirements.txt file\n",
    "    requirements_file = \"requirements.txt\"\n",
    "\n",
    "    # 2. Automatically install all project dependencies from requirements.txt\n",
    "    install_dependencies(requirements_file)\n",
    "\n"
   ]
  },
  {
   "cell_type": "code",
   "execution_count": null,
   "id": "162d4cdf",
   "metadata": {},
   "outputs": [],
   "source": []
  }
 ],
 "metadata": {
  "kernelspec": {
   "display_name": "Python 3 (ipykernel)",
   "language": "python",
   "name": "python3"
  },
  "language_info": {
   "codemirror_mode": {
    "name": "ipython",
    "version": 3
   },
   "file_extension": ".py",
   "mimetype": "text/x-python",
   "name": "python",
   "nbconvert_exporter": "python",
   "pygments_lexer": "ipython3",
   "version": "3.11.4"
  }
 },
 "nbformat": 4,
 "nbformat_minor": 5
}
