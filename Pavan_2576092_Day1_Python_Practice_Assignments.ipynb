{
 "cells": [
  {
   "cell_type": "markdown",
   "id": "ede8f429",
   "metadata": {},
   "source": [
    "# 1.Manipulating Using a List.\n",
    "1) To add new elements to the end of the list\n",
    "2) To reverse element in the list.\n",
    "3) To display the same list of elements multiple  times.\n",
    "4) To concatenate two list.\n",
    "5)To sort the elements in th list in ascending order."
   ]
  },
  {
   "cell_type": "code",
   "execution_count": 1,
   "id": "8122efc0",
   "metadata": {},
   "outputs": [
    {
     "data": {
      "text/plain": [
       "[5, 20, 40, 15, 4]"
      ]
     },
     "execution_count": 1,
     "metadata": {},
     "output_type": "execute_result"
    }
   ],
   "source": [
    "lst=[5,20,40,15,4]\n",
    "lst"
   ]
  },
  {
   "cell_type": "code",
   "execution_count": 2,
   "id": "37ef0e7c",
   "metadata": {},
   "outputs": [
    {
     "name": "stdout",
     "output_type": "stream",
     "text": [
      "Added a element in end of list \n",
      ": [5, 20, 40, 15, 4, 6]\n",
      "Added multiple elements in end of list \n",
      ": [5, 20, 40, 15, 4, 6, 85, 66]\n"
     ]
    }
   ],
   "source": [
    "#1) To add new elements to the end of the list\n",
    "lst.append(6)\n",
    "print('Added a element in end of list \\n:',lst)\n",
    "\n",
    "lst.extend([85,66])\n",
    "print('Added multiple elements in end of list \\n:',lst)"
   ]
  },
  {
   "cell_type": "code",
   "execution_count": 11,
   "id": "b6ba3e1f",
   "metadata": {},
   "outputs": [
    {
     "name": "stdout",
     "output_type": "stream",
     "text": [
      "Reversed elements are \n",
      ": [66, 85, 6, 4, 15, 40, 20, 5]\n"
     ]
    }
   ],
   "source": [
    "#2)To reverse element in the list.\n",
    "lst.reverse()\n",
    "print('Reversed elements are \\n:',lst)"
   ]
  },
  {
   "cell_type": "code",
   "execution_count": 12,
   "id": "9c6aaa49",
   "metadata": {},
   "outputs": [
    {
     "name": "stdout",
     "output_type": "stream",
     "text": [
      "Same list of elements multiple times \n",
      ": [66, 85, 6, 4, 15, 40, 20, 5, 66, 85, 6, 4, 15, 40, 20, 5, 66, 85, 6, 4, 15, 40, 20, 5, 66, 85, 6, 4, 15, 40, 20, 5]\n"
     ]
    }
   ],
   "source": [
    "#3) To display the same list of elements multiple  times.\n",
    "lst=lst*4\n",
    "print('Same list of elements multiple times \\n:',lst)"
   ]
  },
  {
   "cell_type": "code",
   "execution_count": 17,
   "id": "3cf958c6",
   "metadata": {},
   "outputs": [
    {
     "name": "stdout",
     "output_type": "stream",
     "text": [
      "[5, 9, 6, 7, 2, 8]\n"
     ]
    }
   ],
   "source": [
    "#4)To concatenate two list.\n",
    "lst1=[5,9,6]\n",
    "lst2=[7,2,8]\n",
    "lst1.extend(lst2)\n",
    "print(lst1)"
   ]
  },
  {
   "cell_type": "code",
   "execution_count": 19,
   "id": "0f5fda62",
   "metadata": {},
   "outputs": [
    {
     "name": "stdout",
     "output_type": "stream",
     "text": [
      "After sorting \n",
      ": [2, 5, 6, 7, 8, 9]\n"
     ]
    }
   ],
   "source": [
    "#5)To sort the elements in th list in ascending order.\n",
    "lst1.sort()\n",
    "print('After sorting \\n:',lst1)"
   ]
  },
  {
   "cell_type": "markdown",
   "id": "c4369357",
   "metadata": {},
   "source": [
    "# 2.Write a python program to do in tuples.\n",
    "1)Manipulate using tuples.\n",
    "2)To add new elements to the end of tuples.\n",
    "3)To reverse elements in the list.\n",
    "4)To display the elements of the same tuple multiple times.\n",
    "5)To concatentate two tuples.\n",
    "6)To sort the elements in the list in ascending order."
   ]
  },
  {
   "cell_type": "code",
   "execution_count": 33,
   "id": "99f017b7",
   "metadata": {},
   "outputs": [
    {
     "name": "stdout",
     "output_type": "stream",
     "text": [
      "Manipulated tuple is \n",
      ": (4, 5, 6, 7, 8, 9, 10)\n",
      "Added elements to end of tuple \n",
      ": (4, 5, 6, 7, 1, 2, 3)\n",
      "Reversed tuple \n",
      ": (3, 2, 1, 7, 6, 5, 4)\n",
      "Same tuple multiple times \n",
      ": (4, 5, 6, 7, 1, 2, 3, 4, 5, 6, 7, 1, 2, 3, 4, 5, 6, 7, 1, 2, 3, 4, 5, 6, 7, 1, 2, 3)\n",
      "After concatenate two tuples \n",
      ": [5, 9, 6, 7, 2, 8]\n",
      "After sorting \n",
      ": (2, 5, 6, 7, 8, 9)\n"
     ]
    }
   ],
   "source": [
    "tup=(4,5,6,7)\n",
    "#1)Manipulate using tuples.\n",
    "tup1=tup+(8,9,10)\n",
    "print('Manipulated tuple is \\n:',tup1)\n",
    "#2)To add new elements to the end of tuples.\n",
    "new_tup = (1,2,3)\n",
    "tup+=new_tup\n",
    "print('Added elements to end of tuple \\n:',tup)\n",
    "#3)To reverse elements in the list.\n",
    "rev_tup=tuple(reversed(tup))\n",
    "print('Reversed tuple \\n:',rev_tup)\n",
    "#4)To display the elements of the same tuple multiple times.\n",
    "tup=tup*4\n",
    "print('Same tuple multiple times \\n:',tup)\n",
    "#5)To concatentate two tuples.\n",
    "tuple1=[5,9,6]\n",
    "tuple2=[7,2,8]\n",
    "concat_tup=tuple1+tuple2\n",
    "print('After concatenate two tuples \\n:',concat_tup)\n",
    "#6)To sort the elements in the list in ascending order.\n",
    "sort_tup=tuple(sorted(concat_tup))\n",
    "print('After sorting \\n:',sort_tup)"
   ]
  },
  {
   "cell_type": "markdown",
   "id": "8dac7755",
   "metadata": {},
   "source": [
    "# 3.Write a python program to implement the following using list.\n",
    "1)Create a list with integers(mimimum 10 numbers).\n",
    "2)How to display the last number in the list.\n",
    "3)Command for displaying the values from list[0:4].\n",
    "4)Command for displaying the values from list[2:].\n",
    "5)Command for displaying the values from list[:6].\n"
   ]
  },
  {
   "cell_type": "code",
   "execution_count": 42,
   "id": "c0182ab9",
   "metadata": {},
   "outputs": [
    {
     "name": "stdout",
     "output_type": "stream",
     "text": [
      "The list is \n",
      ": [1, 2, 3, 4, 5, 6, 7, 8, 10]\n",
      "The last number is \n",
      ": 10\n",
      "Values from list[0:4] \n",
      " : [1, 2, 3, 4]\n",
      "Values from list[2:] \n",
      " : [3, 4, 5, 6, 7, 8, 10]\n",
      "Valued from list[:6] \n",
      ": [1, 2, 3, 4, 5, 6]\n"
     ]
    }
   ],
   "source": [
    "#1)Create a list with integers(mimimum 10 numbers).\n",
    "new_lst=[1,2,3,4,5,6,7,8,10]\n",
    "print('The list is \\n:',new_lst)\n",
    "#2)How to display the last number in the list.\n",
    "last_num=new_lst[-1]\n",
    "print('The last number is \\n:',last_num)\n",
    "#3)Command for displaying the values from list[0:4].\n",
    "values_0_to_4= new_lst[0:4]\n",
    "print('Values from list[0:4] \\n :', values_0_to_4)\n",
    "#4)Command for displaying the values from list[2:].\n",
    "values_from_2 = new_lst[2:]\n",
    "print('Values from list[2:] \\n :', values_from_2)\n",
    "#5)Command for displaying the values from list[:6].\n",
    "values_upto_length_6= new_lst[:6]\n",
    "print('Valued from list[:6] \\n:',values_upto_length_6)"
   ]
  },
  {
   "cell_type": "markdown",
   "id": "cac77ed0",
   "metadata": {},
   "source": [
    "# 4.Write a python program:tuple1=(10,50,20,40,30)\n",
    "1)To display the elements 10 and 50 from tuple1.\n",
    "2)To display the length of tuple1.\n",
    "3)To find the minimum element from tuple1.\n",
    "4)To add all elements in the tuple1.\n",
    "5)To display the same tuple1 multiple times."
   ]
  },
  {
   "cell_type": "code",
   "execution_count": 45,
   "id": "bec40cff",
   "metadata": {},
   "outputs": [
    {
     "name": "stdout",
     "output_type": "stream",
     "text": [
      "Elements 10 and 50 from tuple1 \n",
      ": 10 50\n",
      "Length of tuple1 \n",
      ": 5\n",
      "Minimum element from tuple1 \n",
      ": 10\n",
      "Sum of all elements in tuple1 \n",
      ": 150\n",
      "Same Tuple1 multiple times \n",
      ": (10, 50, 20, 40, 30, 10, 50, 20, 40, 30, 10, 50, 20, 40, 30, 10, 50, 20, 40, 30)\n"
     ]
    }
   ],
   "source": [
    "tuple1=(10,50,20,40,30)\n",
    "# 1) To display the elements 10 and 50 from tuple1\n",
    "a,b = tuple1[0],tuple1[1]\n",
    "print('Elements 10 and 50 from tuple1 \\n:',a,b)\n",
    "# 2) To display the length of tuple1\n",
    "tuple_length=len(tuple1)\n",
    "print('Length of tuple1 \\n:', tuple_length)\n",
    "# 3) To find the minimum element from tuple1\n",
    "min_tuple= min(tuple1)\n",
    "print('Minimum element from tuple1 \\n:',min_tuple)\n",
    "# 4) To add all elements in tuple1\n",
    "sum_of_tuple=sum(tuple1)\n",
    "print('Sum of all elements in tuple1 \\n:',sum_of_tuple)\n",
    "# 5) To display the same tuple1 multiple times\n",
    "multiple_times=tuple1*4\n",
    "print('Same Tuple1 multiple times \\n:',multiple_times)"
   ]
  },
  {
   "cell_type": "markdown",
   "id": "8b826379",
   "metadata": {},
   "source": [
    "# 5.Write a python program :\n",
    "1)To calculate the length of a string.\n",
    "2)To reverse words in string.\n",
    "3)To display the same string multiple times.\n",
    "4)To concatenate two strings.\n",
    "5)Str1=\"South India\",using string slicing to display\"India\"."
   ]
  },
  {
   "cell_type": "code",
   "execution_count": null,
   "id": "413dd37a",
   "metadata": {},
   "outputs": [],
   "source": [
    "5.Write a python program :\n",
    "1)To calculate the length of a string.\n",
    "2)To reverse words in string.\n",
    "3)To display the same string multiple times.\n",
    "4)To concatenate two strings.\n",
    "5)Str1=\"South India\",using string slicing to display\"India\"."
   ]
  },
  {
   "cell_type": "code",
   "execution_count": 50,
   "id": "bff68b55",
   "metadata": {},
   "outputs": [
    {
     "name": "stdout",
     "output_type": "stream",
     "text": [
      "Length of the string \n",
      ": 18\n",
      "After reverse words in the string \n",
      ": Programming Python\n",
      "Same string multiplied times: Python ProgrammingPython ProgrammingPython ProgrammingPython Programming\n",
      "The Concatenated two strings are \n",
      ": Python Programming Language\n",
      "String slicing \n",
      ": India\n"
     ]
    }
   ],
   "source": [
    "# 1) To calculate the length of a string\n",
    "str='Python Programming'\n",
    "length_of_string=len(str)\n",
    "print('Length of the string \\n:',length_of_string)\n",
    "\n",
    "# 2) To reverse words in a string\n",
    "words=str.split()\n",
    "rev_words = \" \".join(reversed(words))\n",
    "print('After reverse words in the string \\n:',rev_words)\n",
    "\n",
    "# 3) To display the same string multiple times\n",
    "str_mul=str*4\n",
    "print(\"Same string multiplied times:\",str_mul)\n",
    "\n",
    "# 4) To concatenate two strings\n",
    "str2= \" Language\"\n",
    "concate_string=str+str2\n",
    "print('The Concatenated two strings are \\n:',concate_string)\n",
    "\n",
    "# 5) Str1 = \"South India\", using string slicing to display \"India\"\n",
    "str1=\"South India\"\n",
    "slicing=str1[6:]\n",
    "print('String slicing \\n:',slicing)"
   ]
  },
  {
   "cell_type": "markdown",
   "id": "748f4d81",
   "metadata": {},
   "source": [
    "# 6.Perform the following:\n",
    "1)Creating the Directory.\n",
    "2)Accessing values and keys in the Directory.\n",
    "3)Updating the directory using a function.\n",
    "4)Clear and delete the directory values."
   ]
  },
  {
   "cell_type": "code",
   "execution_count": 67,
   "id": "5115f31d",
   "metadata": {},
   "outputs": [
    {
     "name": "stdout",
     "output_type": "stream",
     "text": [
      "Directory Values \n",
      ": {'fname': 'Bijivemula', 'lname': 'Pavan', 'age': 22, 'city': 'Badvel'}\n",
      "fname:Bijivemula\n",
      "lname:Pavan\n",
      "age:22\n",
      "city:Badvel\n",
      "Age: 20\n",
      "After clear the directory values : {}\n",
      "After deleting the directory values : <built-in function dir>\n"
     ]
    }
   ],
   "source": [
    "#1)Creating the Directory.\n",
    "dir={'fname':'Bijivemula','lname':'Pavan','age':22,'city':'Badvel'}\n",
    "print('Directory Values \\n:',dir)\n",
    "\n",
    "#2)Accessing values and keys in the Directory.\n",
    "for key,value in dir.items():\n",
    "    print(f\"{key}:{value}\")\n",
    "    \n",
    "# 3) Updating the directory using a function\n",
    "update_age(dir,20)\n",
    "print(\"Age:\",dir[\"age\"])\n",
    "\n",
    "#4)Clear and delete the directory values.\n",
    "dir.clear()\n",
    "print('After clear the directory values :',dir)\n",
    "del dir"
   ]
  },
  {
   "cell_type": "markdown",
   "id": "6ea1641d",
   "metadata": {},
   "source": [
    "# 7.Python program to insert a any number to any position in a list."
   ]
  },
  {
   "cell_type": "code",
   "execution_count": 23,
   "id": "a57ffa4c",
   "metadata": {},
   "outputs": [
    {
     "name": "stdout",
     "output_type": "stream",
     "text": [
      "After inserting in list \n",
      ": [2, 18, 22, 15, 64, 31]\n"
     ]
    }
   ],
   "source": [
    "lst = [2,18,22,64,31]\n",
    "insert_number_at_position(lst,15,3)\n",
    "print('After inserting in list \\n:',lst)\n"
   ]
  },
  {
   "cell_type": "markdown",
   "id": "7bd0aa6c",
   "metadata": {},
   "source": [
    "# 8.Python program to delete an element from a list by index."
   ]
  },
  {
   "cell_type": "code",
   "execution_count": 69,
   "id": "2419b4d5",
   "metadata": {},
   "outputs": [
    {
     "name": "stdout",
     "output_type": "stream",
     "text": [
      "After deleted an element by index : [20, 5, 29, 44]\n"
     ]
    }
   ],
   "source": [
    "lst5=[20,22,5,29,44]\n",
    "del lst5[1]\n",
    "print('After deleted an element by index :',lst5)"
   ]
  },
  {
   "cell_type": "markdown",
   "id": "56c7b8d3",
   "metadata": {},
   "source": [
    "# 9.write a program to display a number from 1 to 100."
   ]
  },
  {
   "cell_type": "code",
   "execution_count": 49,
   "id": "9887578e",
   "metadata": {},
   "outputs": [
    {
     "name": "stdout",
     "output_type": "stream",
     "text": [
      "1\n",
      "2\n",
      "3\n",
      "4\n",
      "5\n",
      "6\n",
      "7\n",
      "8\n",
      "9\n",
      "10\n",
      "11\n",
      "12\n",
      "13\n",
      "14\n",
      "15\n",
      "16\n",
      "17\n",
      "18\n",
      "19\n",
      "20\n",
      "21\n",
      "22\n",
      "23\n",
      "24\n",
      "25\n",
      "26\n",
      "27\n",
      "28\n",
      "29\n",
      "30\n",
      "31\n",
      "32\n",
      "33\n",
      "34\n",
      "35\n",
      "36\n",
      "37\n",
      "38\n",
      "39\n",
      "40\n",
      "41\n",
      "42\n",
      "43\n",
      "44\n",
      "45\n",
      "46\n",
      "47\n",
      "48\n",
      "49\n",
      "50\n",
      "51\n",
      "52\n",
      "53\n",
      "54\n",
      "55\n",
      "56\n",
      "57\n",
      "58\n",
      "59\n",
      "60\n",
      "61\n",
      "62\n",
      "63\n",
      "64\n",
      "65\n",
      "66\n",
      "67\n",
      "68\n",
      "69\n",
      "70\n",
      "71\n",
      "72\n",
      "73\n",
      "74\n",
      "75\n",
      "76\n",
      "77\n",
      "78\n",
      "79\n",
      "80\n",
      "81\n",
      "82\n",
      "83\n",
      "84\n",
      "85\n",
      "86\n",
      "87\n",
      "88\n",
      "89\n",
      "90\n",
      "91\n",
      "92\n",
      "93\n",
      "94\n",
      "95\n",
      "96\n",
      "97\n",
      "98\n",
      "99\n",
      "100\n"
     ]
    }
   ],
   "source": [
    "for num in range(1,101):\n",
    "    print(num)"
   ]
  },
  {
   "cell_type": "markdown",
   "id": "39ff5c15",
   "metadata": {},
   "source": [
    "# 10.Write a python program to find the sum of all items in tuples."
   ]
  },
  {
   "cell_type": "code",
   "execution_count": 51,
   "id": "52702447",
   "metadata": {},
   "outputs": [
    {
     "name": "stdout",
     "output_type": "stream",
     "text": [
      "Sum pf all items: 22\n"
     ]
    }
   ],
   "source": [
    "tup = (9,2,6,5)\n",
    "tup=sum(tup)\n",
    "print('Sum pf all items:',tup)"
   ]
  },
  {
   "cell_type": "markdown",
   "id": "c087b941",
   "metadata": {},
   "source": [
    "# 11.Create a directory containing lamda functions square,cube and square root.\n",
    "1)E.g.dict={'Square':function for squaring,'Cube':function for cube,'Square root':function for square root}\n",
    "2)Pass the values(input from the user)to the functions directory respectively.\n",
    "3)Then add the outputs of each function and print it."
   ]
  },
  {
   "cell_type": "code",
   "execution_count": 1,
   "id": "9752901d",
   "metadata": {},
   "outputs": [
    {
     "name": "stdout",
     "output_type": "stream",
     "text": [
      "Enter number:4\n",
      "Square of given number is: 4\n",
      "Cube of given number is: 4\n",
      "Square root of given number is: 4\n"
     ]
    }
   ],
   "source": [
    "# 1)Create a directory containing lamda functions square, cube and square root.\n",
    "dict={'Square':lambda x:x**2,'Cube':lambda x:x**3,'Square root':lambda x:x**0.5}\n",
    "\n",
    "# 2)Pass the values(input from the user)to the functions directory respectively.\n",
    "num=int(input('Enter number:'))\n",
    "\n",
    "# 3)Then add the outputs of each function and print it.\n",
    "print('Square of given number is:',num)\n",
    "print('Cube of given number is:',num)\n",
    "print('Square root of given number is:',num)"
   ]
  },
  {
   "cell_type": "markdown",
   "id": "a1801512",
   "metadata": {},
   "source": [
    "# 12.A list of words is given.Find the words from the list that have their second character in uppercase.\n",
    "ls=['hello','Dear','hOw','ARe','you']"
   ]
  },
  {
   "cell_type": "code",
   "execution_count": 59,
   "id": "5f4a31df",
   "metadata": {},
   "outputs": [
    {
     "name": "stdout",
     "output_type": "stream",
     "text": [
      "hOw\n",
      "ARe\n"
     ]
    }
   ],
   "source": [
    "ls=['hello','Dear','hOw','ARe','you']\n",
    "for word in ls:\n",
    "    if word[1].isupper():\n",
    "        print(word)"
   ]
  },
  {
   "cell_type": "markdown",
   "id": "5436ea3c",
   "metadata": {},
   "source": [
    "# 13.A dictionary of names and their weights on earth is given. Find how much they will weigh on the moon. (Use map and lambda functions) Formula: wMoon (wEarth GMoon)/GEarth\n",
    "1)#Weight of people in kg\n",
    "WeightOnEarth = ('John':45, 'Shelly':65, 'Marry':35)\n",
    "2)# Gravitational force on the Moon: 1.622 m/s2\n",
    "GMoon = 1.622\n",
    "3)#Gravitational force on the Earth: 9.81 m/s2\n",
    "GEarth = 9.81"
   ]
  },
  {
   "cell_type": "code",
   "execution_count": 67,
   "id": "faf94eda",
   "metadata": {},
   "outputs": [
    {
     "name": "stdout",
     "output_type": "stream",
     "text": [
      "[('John', 7.440366972477065), ('Shelly', 10.747196738022426), ('Marry', 5.786952089704383)]\n"
     ]
    }
   ],
   "source": [
    "WeightOnEarth={'John':45,'Shelly':65,'Marry':35}\n",
    "GMoon=1.622\n",
    "GEarth=9.81\n",
    "WeightOnMoon=list(map(lambda x:(x[0],x[1]*GMoon/GEarth),WeightOnEarth.items()))\n",
    "print(WeightOnMoon)"
   ]
  },
  {
   "cell_type": "code",
   "execution_count": null,
   "id": "1e0aaaae",
   "metadata": {},
   "outputs": [],
   "source": []
  }
 ],
 "metadata": {
  "kernelspec": {
   "display_name": "Python 3 (ipykernel)",
   "language": "python",
   "name": "python3"
  },
  "language_info": {
   "codemirror_mode": {
    "name": "ipython",
    "version": 3
   },
   "file_extension": ".py",
   "mimetype": "text/x-python",
   "name": "python",
   "nbconvert_exporter": "python",
   "pygments_lexer": "ipython3",
   "version": "3.11.4"
  }
 },
 "nbformat": 4,
 "nbformat_minor": 5
}
