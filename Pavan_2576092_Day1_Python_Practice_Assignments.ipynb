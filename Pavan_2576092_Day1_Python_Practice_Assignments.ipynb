{
 "cells": [
  {
   "cell_type": "markdown",
   "id": "ede8f429",
   "metadata": {},
   "source": [
    "# 1.Manipulating Using a List.\n",
    "1) To add new elements to the end of the list\n",
    "2) To reverse element in the list.\n",
    "3) To display the same list of elements multiple  times.\n",
    "4) To concatenate two list.\n",
    "5)To sort the elements in th list in ascending order."
   ]
  },
  {
   "cell_type": "code",
   "execution_count": 1,
   "id": "8122efc0",
   "metadata": {},
   "outputs": [
    {
     "data": {
      "text/plain": [
       "[5, 20, 40, 15, 4]"
      ]
     },
     "execution_count": 1,
     "metadata": {},
     "output_type": "execute_result"
    }
   ],
   "source": [
    "lst=[5,20,40,15,4]\n",
    "lst"
   ]
  },
  {
   "cell_type": "code",
   "execution_count": 2,
   "id": "37ef0e7c",
   "metadata": {},
   "outputs": [
    {
     "name": "stdout",
     "output_type": "stream",
     "text": [
      "Added a element in end of list \n",
      ": [5, 20, 40, 15, 4, 6]\n",
      "Added multiple elements in end of list \n",
      ": [5, 20, 40, 15, 4, 6, 85, 66]\n"
     ]
    }
   ],
   "source": [
    "#1) To add new elements to the end of the list\n",
    "lst.append(6)\n",
    "print('Added a element in end of list \\n:',lst)\n",
    "\n",
    "lst.extend([85,66])\n",
    "print('Added multiple elements in end of list \\n:',lst)"
   ]
  },
  {
   "cell_type": "code",
   "execution_count": 11,
   "id": "b6ba3e1f",
   "metadata": {},
   "outputs": [
    {
     "name": "stdout",
     "output_type": "stream",
     "text": [
      "Reversed elements are \n",
      ": [66, 85, 6, 4, 15, 40, 20, 5]\n"
     ]
    }
   ],
   "source": [
    "#2)To reverse element in the list.\n",
    "lst.reverse()\n",
    "print('Reversed elements are \\n:',lst)"
   ]
  },
  {
   "cell_type": "code",
   "execution_count": 12,
   "id": "9c6aaa49",
   "metadata": {},
   "outputs": [
    {
     "name": "stdout",
     "output_type": "stream",
     "text": [
      "Same list of elements multiple times \n",
      ": [66, 85, 6, 4, 15, 40, 20, 5, 66, 85, 6, 4, 15, 40, 20, 5, 66, 85, 6, 4, 15, 40, 20, 5, 66, 85, 6, 4, 15, 40, 20, 5]\n"
     ]
    }
   ],
   "source": [
    "#3) To display the same list of elements multiple  times.\n",
    "lst=lst*4\n",
    "print('Same list of elements multiple times \\n:',lst)"
   ]
  },
  {
   "cell_type": "code",
   "execution_count": 17,
   "id": "3cf958c6",
   "metadata": {},
   "outputs": [
    {
     "name": "stdout",
     "output_type": "stream",
     "text": [
      "[5, 9, 6, 7, 2, 8]\n"
     ]
    }
   ],
   "source": [
    "#4)To concatenate two list.\n",
    "lst1=[5,9,6]\n",
    "lst2=[7,2,8]\n",
    "lst1.extend(lst2)\n",
    "print(lst1)"
   ]
  },
  {
   "cell_type": "code",
   "execution_count": 19,
   "id": "0f5fda62",
   "metadata": {},
   "outputs": [
    {
     "name": "stdout",
     "output_type": "stream",
     "text": [
      "After sorting \n",
      ": [2, 5, 6, 7, 8, 9]\n"
     ]
    }
   ],
   "source": [
    "#5)To sort the elements in th list in ascending order.\n",
    "lst1.sort()\n",
    "print('After sorting \\n:',lst1)"
   ]
  },
  {
   "cell_type": "markdown",
   "id": "c4369357",
   "metadata": {},
   "source": [
    "# 2.Write a python program to do in tuples.\n",
    "1)Manipulate using tuples.\n",
    "2)To add new elements to the end of tuples.\n",
    "3)To reverse elements in the list.\n",
    "4)To display the elements of the same tuple multiple times.\n",
    "5)To concatentate two tuples.\n",
    "6)To sort the elements in the list in ascending order."
   ]
  },
  {
   "cell_type": "code",
   "execution_count": 33,
   "id": "99f017b7",
   "metadata": {},
   "outputs": [
    {
     "name": "stdout",
     "output_type": "stream",
     "text": [
      "Manipulated tuple is \n",
      ": (4, 5, 6, 7, 8, 9, 10)\n",
      "Added elements to end of tuple \n",
      ": (4, 5, 6, 7, 1, 2, 3)\n",
      "Reversed tuple \n",
      ": (3, 2, 1, 7, 6, 5, 4)\n",
      "Same tuple multiple times \n",
      ": (4, 5, 6, 7, 1, 2, 3, 4, 5, 6, 7, 1, 2, 3, 4, 5, 6, 7, 1, 2, 3, 4, 5, 6, 7, 1, 2, 3)\n",
      "After concatenate two tuples \n",
      ": [5, 9, 6, 7, 2, 8]\n",
      "After sorting \n",
      ": (2, 5, 6, 7, 8, 9)\n"
     ]
    }
   ],
   "source": [
    "tup=(4,5,6,7)\n",
    "#1)Manipulate using tuples.\n",
    "tup1=tup+(8,9,10)\n",
    "print('Manipulated tuple is \\n:',tup1)\n",
    "#2)To add new elements to the end of tuples.\n",
    "new_tup = (1,2,3)\n",
    "tup+=new_tup\n",
    "print('Added elements to end of tuple \\n:',tup)\n",
    "#3)To reverse elements in the list.\n",
    "rev_tup=tuple(reversed(tup))\n",
    "print('Reversed tuple \\n:',rev_tup)\n",
    "#4)To display the elements of the same tuple multiple times.\n",
    "tup=tup*4\n",
    "print('Same tuple multiple times \\n:',tup)\n",
    "#5)To concatentate two tuples.\n",
    "tuple1=[5,9,6]\n",
    "tuple2=[7,2,8]\n",
    "concat_tup=tuple1+tuple2\n",
    "print('After concatenate two tuples \\n:',concat_tup)\n",
    "#6)To sort the elements in the list in ascending order.\n",
    "sort_tup=tuple(sorted(concat_tup))\n",
    "print('After sorting \\n:',sort_tup)"
   ]
  },
  {
   "cell_type": "markdown",
   "id": "8dac7755",
   "metadata": {},
   "source": [
    "# 3.Write a python program to implement the following using list.\n",
    "1)Create a list with integers(mimimum 10 numbers).\n",
    "2)How to display the last number in the list.\n",
    "3)Command for displaying the values from list[0:4].\n",
    "4)Command for displaying the values from list[2:].\n",
    "5)Command for displaying the values from list[:6].\n"
   ]
  },
  {
   "cell_type": "code",
   "execution_count": 42,
   "id": "c0182ab9",
   "metadata": {},
   "outputs": [
    {
     "name": "stdout",
     "output_type": "stream",
     "text": [
      "The list is \n",
      ": [1, 2, 3, 4, 5, 6, 7, 8, 10]\n",
      "The last number is \n",
      ": 10\n",
      "Values from list[0:4] \n",
      " : [1, 2, 3, 4]\n",
      "Values from list[2:] \n",
      " : [3, 4, 5, 6, 7, 8, 10]\n",
      "Valued from list[:6] \n",
      ": [1, 2, 3, 4, 5, 6]\n"
     ]
    }
   ],
   "source": [
    "#1)Create a list with integers(mimimum 10 numbers).\n",
    "new_lst=[1,2,3,4,5,6,7,8,10]\n",
    "print('The list is \\n:',new_lst)\n",
    "#2)How to display the last number in the list.\n",
    "last_num=new_lst[-1]\n",
    "print('The last number is \\n:',last_num)\n",
    "#3)Command for displaying the values from list[0:4].\n",
    "values_0_to_4= new_lst[0:4]\n",
    "print('Values from list[0:4] \\n :', values_0_to_4)\n",
    "#4)Command for displaying the values from list[2:].\n",
    "values_from_2 = new_lst[2:]\n",
    "print('Values from list[2:] \\n :', values_from_2)\n",
    "#5)Command for displaying the values from list[:6].\n",
    "values_upto_length_6= new_lst[:6]\n",
    "print('Valued from list[:6] \\n:',values_upto_length_6)"
   ]
  },
  {
   "cell_type": "markdown",
   "id": "cac77ed0",
   "metadata": {},
   "source": [
    "# 4.Write a python program:tuple1=(10,50,20,40,30)\n",
    "1)To display the elements 10 and 50 from tuple1.\n",
    "2)To display the length of tuple1.\n",
    "3)To find the minimum element from tuple1.\n",
    "4)To add all elements in the tuple1.\n",
    "5)To display the same tuple1 multiple times."
   ]
  },
  {
   "cell_type": "code",
   "execution_count": 45,
   "id": "bec40cff",
   "metadata": {},
   "outputs": [
    {
     "name": "stdout",
     "output_type": "stream",
     "text": [
      "Elements 10 and 50 from tuple1 \n",
      ": 10 50\n",
      "Length of tuple1 \n",
      ": 5\n",
      "Minimum element from tuple1 \n",
      ": 10\n",
      "Sum of all elements in tuple1 \n",
      ": 150\n",
      "Same Tuple1 multiple times \n",
      ": (10, 50, 20, 40, 30, 10, 50, 20, 40, 30, 10, 50, 20, 40, 30, 10, 50, 20, 40, 30)\n"
     ]
    }
   ],
   "source": [
    "tuple1=(10,50,20,40,30)\n",
    "# 1) To display the elements 10 and 50 from tuple1\n",
    "a,b = tuple1[0],tuple1[1]\n",
    "print('Elements 10 and 50 from tuple1 \\n:',a,b)\n",
    "# 2) To display the length of tuple1\n",
    "tuple_length=len(tuple1)\n",
    "print('Length of tuple1 \\n:', tuple_length)\n",
    "# 3) To find the minimum element from tuple1\n",
    "min_tuple= min(tuple1)\n",
    "print('Minimum element from tuple1 \\n:',min_tuple)\n",
    "# 4) To add all elements in tuple1\n",
    "sum_of_tuple=sum(tuple1)\n",
    "print('Sum of all elements in tuple1 \\n:',sum_of_tuple)\n",
    "# 5) To display the same tuple1 multiple times\n",
    "multiple_times=tuple1*4\n",
    "print('Same Tuple1 multiple times \\n:',multiple_times)"
   ]
  },
  {
   "cell_type": "markdown",
   "id": "8b826379",
   "metadata": {},
   "source": [
    "# 5.Write a python program :\n",
    "1)To calculate the length of a string.\n",
    "2)To reverse words in string.\n",
    "3)To display the same string multiple times.\n",
    "4)To concatenate two strings.\n",
    "5)Str1=\"South India\",using string slicing to display\"India\"."
   ]
  },
  {
   "cell_type": "code",
   "execution_count": null,
   "id": "413dd37a",
   "metadata": {},
   "outputs": [],
   "source": [
    "5.Write a python program :\n",
    "1)To calculate the length of a string.\n",
    "2)To reverse words in string.\n",
    "3)To display the same string multiple times.\n",
    "4)To concatenate two strings.\n",
    "5)Str1=\"South India\",using string slicing to display\"India\"."
   ]
  },
  {
   "cell_type": "code",
   "execution_count": 50,
   "id": "bff68b55",
   "metadata": {},
   "outputs": [
    {
     "name": "stdout",
     "output_type": "stream",
     "text": [
      "Length of the string \n",
      ": 18\n",
      "After reverse words in the string \n",
      ": Programming Python\n",
      "Same string multiplied times: Python ProgrammingPython ProgrammingPython ProgrammingPython Programming\n",
      "The Concatenated two strings are \n",
      ": Python Programming Language\n",
      "String slicing \n",
      ": India\n"
     ]
    }
   ],
   "source": [
    "# 1) To calculate the length of a string\n",
    "str='Python Programming'\n",
    "length_of_string=len(str)\n",
    "print('Length of the string \\n:',length_of_string)\n",
    "\n",
    "# 2) To reverse words in a string\n",
    "words=str.split()\n",
    "rev_words = \" \".join(reversed(words))\n",
    "print('After reverse words in the string \\n:',rev_words)\n",
    "\n",
    "# 3) To display the same string multiple times\n",
    "str_mul=str*4\n",
    "print(\"Same string multiplied times:\",str_mul)\n",
    "\n",
    "# 4) To concatenate two strings\n",
    "str2= \" Language\"\n",
    "concate_string=str+str2\n",
    "print('The Concatenated two strings are \\n:',concate_string)\n",
    "\n",
    "# 5) Str1 = \"South India\", using string slicing to display \"India\"\n",
    "str1=\"South India\"\n",
    "slicing=str1[6:]\n",
    "print('String slicing \\n:',slicing)"
   ]
  },
  {
   "cell_type": "markdown",
   "id": "748f4d81",
   "metadata": {},
   "source": [
    "# 6.Perform the following:\n",
    "1)Creating the Directory.\n",
    "2)Accessing values and keys in the Directory.\n",
    "3)Updating the directory using a function.\n",
    "4)Clear and delete the directory values."
   ]
  },
  {
   "cell_type": "code",
   "execution_count": 67,
   "id": "5115f31d",
   "metadata": {},
   "outputs": [
    {
     "name": "stdout",
     "output_type": "stream",
     "text": [
      "Directory Values \n",
      ": {'fname': 'Bijivemula', 'lname': 'Pavan', 'age': 22, 'city': 'Badvel'}\n",
      "fname:Bijivemula\n",
      "lname:Pavan\n",
      "age:22\n",
      "city:Badvel\n",
      "Age: 20\n",
      "After clear the directory values : {}\n",
      "After deleting the directory values : <built-in function dir>\n"
     ]
    }
   ],
   "source": [
    "#1)Creating the Directory.\n",
    "dir={'fname':'Bijivemula','lname':'Pavan','age':22,'city':'Badvel'}\n",
    "print('Directory Values \\n:',dir)\n",
    "\n",
    "#2)Accessing values and keys in the Directory.\n",
    "for key,value in dir.items():\n",
    "    print(f\"{key}:{value}\")\n",
    "    \n",
    "# 3) Updating the directory using a function\n",
    "update_age(dir,20)\n",
    "print(\"Age:\",dir[\"age\"])\n",
    "\n",
    "#4)Clear and delete the directory values.\n",
    "dir.clear()\n",
    "print('After clear the directory values :',dir)\n",
    "del dir"
   ]
  },
  {
   "cell_type": "markdown",
   "id": "6ea1641d",
   "metadata": {},
   "source": [
    "# 7.Python program to insert a any number to any position in a list."
   ]
  },
  {
   "cell_type": "code",
   "execution_count": 23,
   "id": "a57ffa4c",
   "metadata": {},
   "outputs": [
    {
     "name": "stdout",
     "output_type": "stream",
     "text": [
      "After inserting in list \n",
      ": [2, 18, 22, 15, 64, 31]\n"
     ]
    }
   ],
   "source": [
    "lst = [2,18,22,64,31]\n",
    "insert_number_at_position(lst,15,3)\n",
    "print('After inserting in list \\n:',lst)\n"
   ]
  },
  {
   "cell_type": "markdown",
   "id": "7bd0aa6c",
   "metadata": {},
   "source": [
    "# 8.Python program to delete an element from a list by index."
   ]
  },
  {
   "cell_type": "code",
   "execution_count": 69,
   "id": "2419b4d5",
   "metadata": {},
   "outputs": [
    {
     "name": "stdout",
     "output_type": "stream",
     "text": [
      "After deleted an element by index : [20, 5, 29, 44]\n"
     ]
    }
   ],
   "source": [
    "lst5=[20,22,5,29,44]\n",
    "del lst5[1]\n",
    "print('After deleted an element by index :',lst5)"
   ]
  },
  {
   "cell_type": "markdown",
   "id": "56c7b8d3",
   "metadata": {},
   "source": [
    "# 9.write a program to display a number from 1 to 100."
   ]
  },
  {
   "cell_type": "code",
   "execution_count": 49,
   "id": "9887578e",
   "metadata": {},
   "outputs": [
    {
     "name": "stdout",
     "output_type": "stream",
     "text": [
      "1\n",
      "2\n",
      "3\n",
      "4\n",
      "5\n",
      "6\n",
      "7\n",
      "8\n",
      "9\n",
      "10\n",
      "11\n",
      "12\n",
      "13\n",
      "14\n",
      "15\n",
      "16\n",
      "17\n",
      "18\n",
      "19\n",
      "20\n",
      "21\n",
      "22\n",
      "23\n",
      "24\n",
      "25\n",
      "26\n",
      "27\n",
      "28\n",
      "29\n",
      "30\n",
      "31\n",
      "32\n",
      "33\n",
      "34\n",
      "35\n",
      "36\n",
      "37\n",
      "38\n",
      "39\n",
      "40\n",
      "41\n",
      "42\n",
      "43\n",
      "44\n",
      "45\n",
      "46\n",
      "47\n",
      "48\n",
      "49\n",
      "50\n",
      "51\n",
      "52\n",
      "53\n",
      "54\n",
      "55\n",
      "56\n",
      "57\n",
      "58\n",
      "59\n",
      "60\n",
      "61\n",
      "62\n",
      "63\n",
      "64\n",
      "65\n",
      "66\n",
      "67\n",
      "68\n",
      "69\n",
      "70\n",
      "71\n",
      "72\n",
      "73\n",
      "74\n",
      "75\n",
      "76\n",
      "77\n",
      "78\n",
      "79\n",
      "80\n",
      "81\n",
      "82\n",
      "83\n",
      "84\n",
      "85\n",
      "86\n",
      "87\n",
      "88\n",
      "89\n",
      "90\n",
      "91\n",
      "92\n",
      "93\n",
      "94\n",
      "95\n",
      "96\n",
      "97\n",
      "98\n",
      "99\n",
      "100\n"
     ]
    }
   ],
   "source": [
    "for num in range(1,101):\n",
    "    print(num)"
   ]
  },
  {
   "cell_type": "markdown",
   "id": "39ff5c15",
   "metadata": {},
   "source": [
    "# 10.Write a python program to find the sum of all items in tuples."
   ]
  },
  {
   "cell_type": "code",
   "execution_count": 51,
   "id": "52702447",
   "metadata": {},
   "outputs": [
    {
     "name": "stdout",
     "output_type": "stream",
     "text": [
      "Sum pf all items: 22\n"
     ]
    }
   ],
   "source": [
    "tup = (9,2,6,5)\n",
    "tup=sum(tup)\n",
    "print('Sum pf all items:',tup)"
   ]
  },
  {
   "cell_type": "markdown",
   "id": "c087b941",
   "metadata": {},
   "source": [
    "# 11.Create a directory containing lamda functions square,cube and square root.\n",
    "1)E.g.dict={'Square':function for squaring,'Cube':function for cube,'Square root':function for square root}\n",
    "2)Pass the values(input from the user)to the functions directory respectively.\n",
    "3)Then add the outputs of each function and print it."
   ]
  },
  {
   "cell_type": "code",
   "execution_count": 1,
   "id": "9752901d",
   "metadata": {},
   "outputs": [
    {
     "name": "stdout",
     "output_type": "stream",
     "text": [
      "Enter number:4\n",
      "Square of given number is: 4\n",
      "Cube of given number is: 4\n",
      "Square root of given number is: 4\n"
     ]
    }
   ],
   "source": [
    "# 1)Create a directory containing lamda functions square, cube and square root.\n",
    "dict={'Square':lambda x:x**2,'Cube':lambda x:x**3,'Square root':lambda x:x**0.5}\n",
    "\n",
    "# 2)Pass the values(input from the user)to the functions directory respectively.\n",
    "num=int(input('Enter number:'))\n",
    "\n",
    "# 3)Then add the outputs of each function and print it.\n",
    "print('Square of given number is:',num)\n",
    "print('Cube of given number is:',num)\n",
    "print('Square root of given number is:',num)"
   ]
  },
  {
   "cell_type": "markdown",
   "id": "a1801512",
   "metadata": {},
   "source": [
    "# 12.A list of words is given.Find the words from the list that have their second character in uppercase.\n",
    "ls=['hello','Dear','hOw','ARe','you']"
   ]
  },
  {
   "cell_type": "code",
   "execution_count": 59,
   "id": "5f4a31df",
   "metadata": {},
   "outputs": [
    {
     "name": "stdout",
     "output_type": "stream",
     "text": [
      "hOw\n",
      "ARe\n"
     ]
    }
   ],
   "source": [
    "ls=['hello','Dear','hOw','ARe','you']\n",
    "for word in ls:\n",
    "    if word[1].isupper():\n",
    "        print(word)"
   ]
  },
  {
   "cell_type": "markdown",
   "id": "5436ea3c",
   "metadata": {},
   "source": [
    "# 13.A dictionary of names and their weights on earth is given. Find how much they will weigh on the moon. (Use map and lambda functions) Formula: wMoon (wEarth GMoon)/GEarth\n",
    "1)#Weight of people in kg\n",
    "WeightOnEarth = ('John':45, 'Shelly':65, 'Marry':35)\n",
    "2)# Gravitational force on the Moon: 1.622 m/s2\n",
    "GMoon = 1.622\n",
    "3)#Gravitational force on the Earth: 9.81 m/s2\n",
    "GEarth = 9.81"
   ]
  },
  {
   "cell_type": "code",
   "execution_count": 67,
   "id": "faf94eda",
   "metadata": {},
   "outputs": [
    {
     "name": "stdout",
     "output_type": "stream",
     "text": [
      "[('John', 7.440366972477065), ('Shelly', 10.747196738022426), ('Marry', 5.786952089704383)]\n"
     ]
    }
   ],
   "source": [
    "WeightOnEarth={'John':45,'Shelly':65,'Marry':35}\n",
    "GMoon=1.622\n",
    "GEarth=9.81\n",
    "WeightOnMoon=list(map(lambda x:(x[0],x[1]*GMoon/GEarth),WeightOnEarth.items()))\n",
    "print(WeightOnMoon)"
   ]
  },
  {
   "cell_type": "markdown",
   "id": "f3e3628b",
   "metadata": {},
   "source": [
    "# Control Structures"
   ]
  },
  {
   "cell_type": "markdown",
   "id": "85d18f78",
   "metadata": {},
   "source": [
    "# 1. Write a python program to find the first N Prime numbers.\n"
   ]
  },
  {
   "cell_type": "code",
   "execution_count": 1,
   "id": "825e6aab",
   "metadata": {},
   "outputs": [
    {
     "name": "stdout",
     "output_type": "stream",
     "text": [
      "Enter number:5\n",
      "2 3 5 "
     ]
    }
   ],
   "source": [
    "number=int(input('Enter number:'))\n",
    "for num in range(1,number+1):  \n",
    "    if num > 1:  \n",
    "        for i in range(2,num):  \n",
    "            if(num%i)==0:  \n",
    "                break  \n",
    "        else:  \n",
    "            print (num,end=' ') "
   ]
  },
  {
   "cell_type": "markdown",
   "id": "c4ed8ec2",
   "metadata": {},
   "source": [
    "# 2. Write the python code that calculates the salary of an employee. Prompt the user to enter theBasic Salary, HRA, TA, and DA. Add these components to calculate the Gross Salary. Also, deduct 10% of salary from the Gross Salary to be paid as tax and display gross minus tax as net salary.\n"
   ]
  },
  {
   "cell_type": "code",
   "execution_count": 2,
   "id": "881bbfaf",
   "metadata": {},
   "outputs": [
    {
     "name": "stdout",
     "output_type": "stream",
     "text": [
      "Enter Basic Salary: 25000\n",
      "Enter HRA: 28.5\n",
      "Enter TA: 520\n",
      "Enter DA: 1600.5\n",
      "Gross Salary: 27149.0\n",
      "Tax: 2714.9\n",
      "Net Salary: 24434.1\n"
     ]
    }
   ],
   "source": [
    "basic_salary = float(input(\"Enter Basic Salary: \"))\n",
    "hra = float(input(\"Enter HRA: \"))\n",
    "ta = float(input(\"Enter TA: \"))\n",
    "da = float(input(\"Enter DA: \"))\n",
    "gross_salary = basic_salary + hra + ta + da\n",
    "tax = 0.10 * gross_salary\n",
    "net_salary = gross_salary - tax\n",
    "print('Gross Salary:', gross_salary)\n",
    "print('Tax:', tax)\n",
    "print('Net Salary:', net_salary)\n"
   ]
  },
  {
   "cell_type": "markdown",
   "id": "61dc0ca1",
   "metadata": {},
   "source": [
    "# 3. Write a python program to search for a string in the given list"
   ]
  },
  {
   "cell_type": "code",
   "execution_count": 4,
   "id": "63f8632a",
   "metadata": {},
   "outputs": [
    {
     "name": "stdout",
     "output_type": "stream",
     "text": [
      "Enter a string to search for: banana\n",
      "'banana' is found in the list.\n"
     ]
    }
   ],
   "source": [
    "string_list = [\"Pavan\", \"Kiran\", 22, \"Vamsi\",]\n",
    "search_string = input(\"Enter a string to search for: \")\n",
    "found = False\n",
    "for item in string_list:\n",
    "    if search_string == item:\n",
    "        found = True\n",
    "        break\n",
    "if found:\n",
    "    print(f\"'{search_string}' is found in the list.\")\n",
    "else:\n",
    "    print(f\"'{search_string}' is not found in the list.\")\n"
   ]
  },
  {
   "cell_type": "markdown",
   "id": "91ecf14a",
   "metadata": {},
   "source": [
    "# 4. Write a Python function that accepts a string and calculates the number of upper-case letters andlower-case letters"
   ]
  },
  {
   "cell_type": "code",
   "execution_count": 7,
   "id": "1302e56a",
   "metadata": {},
   "outputs": [
    {
     "data": {
      "text/plain": [
       "(2, 13)"
      ]
     },
     "execution_count": 7,
     "metadata": {},
     "output_type": "execute_result"
    }
   ],
   "source": [
    "def count_upper_lower_letters(input_string):\n",
    "    upper_count = 0\n",
    "    lower_count = 0\n",
    "    for char in input_string:\n",
    "        if char.isupper():\n",
    "            upper_count += 1\n",
    "        elif char.islower():\n",
    "            lower_count += 1\n",
    "    return upper_count, lower_count\n",
    "count_upper_lower_letters('Bijivemula Pavan')"
   ]
  },
  {
   "cell_type": "markdown",
   "id": "9e37ab44",
   "metadata": {},
   "source": [
    "# 5. Write a program to display the sum of odd numbers and even numbers that fall between 12 and37."
   ]
  },
  {
   "cell_type": "code",
   "execution_count": 8,
   "id": "034cdef3",
   "metadata": {},
   "outputs": [
    {
     "name": "stdout",
     "output_type": "stream",
     "text": [
      "Sum of even numbers between 12 and 37: 312\n",
      "Sum of odd numbers between 12 and 37: 325\n"
     ]
    }
   ],
   "source": [
    "even_sum = 0\n",
    "odd_sum = 0\n",
    "for num in range(12, 38):\n",
    "    if num % 2 == 0:\n",
    "        even_sum += num\n",
    "    else:\n",
    "        odd_sum += num\n",
    "print('Sum of even numbers between 12 and 37:', even_sum)\n",
    "print('Sum of odd numbers between 12 and 37:', odd_sum)\n"
   ]
  },
  {
   "cell_type": "markdown",
   "id": "4c034799",
   "metadata": {},
   "source": [
    "# 6. Write a python Program to print the table of any number"
   ]
  },
  {
   "cell_type": "code",
   "execution_count": 11,
   "id": "1827162d",
   "metadata": {},
   "outputs": [
    {
     "name": "stdout",
     "output_type": "stream",
     "text": [
      "Enter the number to print the tables:5\n",
      "5 x 1 = 5\n",
      "5 x 2 = 10\n",
      "5 x 3 = 15\n",
      "5 x 4 = 20\n",
      "5 x 5 = 25\n",
      "5 x 6 = 30\n",
      "5 x 7 = 35\n",
      "5 x 8 = 40\n",
      "5 x 9 = 45\n",
      "5 x 10 = 50\n"
     ]
    }
   ],
   "source": [
    "n=int(input('Enter the number to print the tables:'))\n",
    "for i in range(1,11):\n",
    "    print(n,\"x\",i,\"=\",n*i)"
   ]
  },
  {
   "cell_type": "markdown",
   "id": "bf050fd9",
   "metadata": {},
   "source": [
    "# 7. Write a Python program to sum the first 10 prime numbers."
   ]
  },
  {
   "cell_type": "code",
   "execution_count": 18,
   "id": "62bc0361",
   "metadata": {},
   "outputs": [
    {
     "name": "stdout",
     "output_type": "stream",
     "text": [
      "Sum of the first 10 prime numbers: 129\n"
     ]
    }
   ],
   "source": [
    "def is_prime(number):\n",
    "    if number <= 1:\n",
    "        return False\n",
    "    if number <= 3:\n",
    "        return True\n",
    "    if number % 2 == 0 or number % 3 == 0:\n",
    "        return False\n",
    "    i = 5\n",
    "    while i * i <= number:\n",
    "        if number % i == 0 or number % (i + 2) == 0:\n",
    "            return False\n",
    "        i += 6\n",
    "    return True\n",
    "count = 0\n",
    "number = 2\n",
    "sum_of_primes = 0\n",
    "while count < 10:\n",
    "    if is_prime(number):\n",
    "        sum_of_primes += number\n",
    "        count += 1\n",
    "    number += 1\n",
    "print('Sum of the first 10 prime numbers:', sum_of_primes)\n"
   ]
  },
  {
   "cell_type": "markdown",
   "id": "14879fb1",
   "metadata": {},
   "source": [
    "# 8. Write a python program to implement arithmetic operations using nested if statement."
   ]
  },
  {
   "cell_type": "code",
   "execution_count": 20,
   "id": "32a9078f",
   "metadata": {},
   "outputs": [
    {
     "name": "stdout",
     "output_type": "stream",
     "text": [
      "Enter the first number:5\n",
      "Enter the second number:2\n",
      "Enter an arithmetic operator:*\n",
      "Result: 10.0\n"
     ]
    }
   ],
   "source": [
    "num1 = input('Enter the first number:')\n",
    "num2 = input('Enter the second number:')\n",
    "operator = input('Enter an arithmetic operator:')\n",
    "if num1.replace(\".\", \"\", 1).isdigit() and num2.replace(\".\", \"\", 1).isdigit():\n",
    "    num1 = float(num1)\n",
    "    num2 = float(num2)\n",
    "    if operator == \"+\":\n",
    "        result = num1 + num2\n",
    "        print(\"Result:\", result)\n",
    "    elif operator == \"-\":\n",
    "        result = num1 - num2\n",
    "        print(\"Result:\", result)\n",
    "    elif operator == \"*\":\n",
    "        result = num1 * num2\n",
    "        print(\"Result:\", result)\n",
    "    elif operator == \"/\":\n",
    "        if num2 != 0:\n",
    "            result = num1 / num2\n",
    "            print(\"Result:\", result)\n",
    "        else:\n",
    "            print('Error: Division by zero is not allowed')\n",
    "    else:\n",
    "        print('Error: Invalid operator')\n",
    "else:\n",
    "    print('Error: Please enter valid numeric values')\n"
   ]
  },
  {
   "cell_type": "markdown",
   "id": "1e06f5c1",
   "metadata": {},
   "source": [
    "# 9. Write a python program to take the temperature in Celsius and convert it to a Fahrenheit."
   ]
  },
  {
   "cell_type": "code",
   "execution_count": 21,
   "id": "27e0f202",
   "metadata": {},
   "outputs": [
    {
     "name": "stdout",
     "output_type": "stream",
     "text": [
      "Enter the temperature in celcius:32\n",
      "Temperature in farenheit is: 89.6\n"
     ]
    }
   ],
   "source": [
    "celsius=int(input('Enter the temperature in celcius:'))\n",
    "fahrenheit=(celsius*1.8)+32\n",
    "print('Temperature in farenheit is:',fahrenheit)"
   ]
  },
  {
   "cell_type": "markdown",
   "id": "37e2df23",
   "metadata": {},
   "source": [
    "# 10. Write a python program to find a maximum and minimum number in a list without using an inbuilt function."
   ]
  },
  {
   "cell_type": "code",
   "execution_count": 23,
   "id": "37894933",
   "metadata": {},
   "outputs": [
    {
     "name": "stdout",
     "output_type": "stream",
     "text": [
      "(40, -5)\n"
     ]
    }
   ],
   "source": [
    "def max_min(data):\n",
    "    l = data[0]\n",
    "    s = data[0]\n",
    "    for num in data:\n",
    "        if num> l:\n",
    "            l = num\n",
    "        elif num< s:\n",
    "            s = num\n",
    "            return l, s\n",
    "print(max_min([0, 10, 15, 40, -5, 42, 17, 28, 75]))"
   ]
  },
  {
   "cell_type": "markdown",
   "id": "e97c1803",
   "metadata": {},
   "source": [
    "# 11. Write a program in python to print out the number of seconds in 30-day month 30 days, 24 hours in a day, 60 minutes per day, 60 seconds in a minute."
   ]
  },
  {
   "cell_type": "code",
   "execution_count": 26,
   "id": "2a3b87b1",
   "metadata": {},
   "outputs": [
    {
     "name": "stdout",
     "output_type": "stream",
     "text": [
      "Number of seconds in a 30-day month: 2592000\n"
     ]
    }
   ],
   "source": [
    "days= 30\n",
    "hours= 24\n",
    "minutes= 60\n",
    "seconds= 60\n",
    "seconds_in_month = days* hours* minutes* seconds\n",
    "print('Number of seconds in a 30-day month:',seconds_in_month)\n"
   ]
  },
  {
   "cell_type": "markdown",
   "id": "8fabf592",
   "metadata": {},
   "source": [
    "# 12. Write a program in python to print out the number of seconds in a year."
   ]
  },
  {
   "cell_type": "code",
   "execution_count": 25,
   "id": "45e6838a",
   "metadata": {},
   "outputs": [
    {
     "name": "stdout",
     "output_type": "stream",
     "text": [
      "Number of seconds in a year : 31536000\n"
     ]
    }
   ],
   "source": [
    "days=365\n",
    "hours=24\n",
    "minutes=60\n",
    "seconds=60\n",
    "print('Number of seconds in a year :',days*hours*minutes*seconds)"
   ]
  },
  {
   "cell_type": "markdown",
   "id": "6414de05",
   "metadata": {},
   "source": [
    "# 13. A high-speed train can travel at an average speed of 150 mph, how long will it take a train travelling at this speed to travel from London to Glasgow which is 414 miles away?"
   ]
  },
  {
   "cell_type": "code",
   "execution_count": 28,
   "id": "4a00a877",
   "metadata": {},
   "outputs": [
    {
     "name": "stdout",
     "output_type": "stream",
     "text": [
      "2.76\n"
     ]
    }
   ],
   "source": [
    "speed=150\n",
    "distance=414\n",
    "time=distance/speed\n",
    "print(time)"
   ]
  },
  {
   "cell_type": "markdown",
   "id": "8fc9ee35",
   "metadata": {},
   "source": [
    "# 14. Write a python program that defines a variable called days_in_each_school_year and assign 192 to the variable. The program should then print out the total hours that you spend in school from year 7 to year 11, if each day you spend 6 hours in school days_in_each_school_year = 192"
   ]
  },
  {
   "cell_type": "code",
   "execution_count": 30,
   "id": "55fb27c8",
   "metadata": {},
   "outputs": [
    {
     "name": "stdout",
     "output_type": "stream",
     "text": [
      "Total hours spent in school from Year 7 to Year 11: 5760\n"
     ]
    }
   ],
   "source": [
    "days_in_each_school_year = 192\n",
    "school_years = 5\n",
    "hours_per_day = 6\n",
    "total_hours_in_school = days_in_each_school_year * school_years * hours_per_day\n",
    "print('Total hours spent in school from Year 7 to Year 11:',total_hours_in_school)\n"
   ]
  },
  {
   "cell_type": "markdown",
   "id": "8b87d41e",
   "metadata": {},
   "source": [
    "# 15. If the age of Ram, Sam and Khan are input through the keyboard,write a python program to determine the eldest and youngest of the three."
   ]
  },
  {
   "cell_type": "code",
   "execution_count": 32,
   "id": "ad875fa9",
   "metadata": {},
   "outputs": [
    {
     "name": "stdout",
     "output_type": "stream",
     "text": [
      "Enter the age of Ram:51\n",
      "Enter the age of Sam:23\n",
      "Enter the age of Khan:45\n",
      "The eldest among Ram, Sam, and Khan is: Ram\n",
      "The youngest among Ram, Sam, and Khan is: Sam\n"
     ]
    }
   ],
   "source": [
    "ram_age = int(input('Enter the age of Ram:'))\n",
    "sam_age = int(input('Enter the age of Sam:'))\n",
    "khan_age = int(input('Enter the age of Khan:'))\n",
    "if ram_age >= sam_age and ram_age >= khan_age:\n",
    "    eldest = \"Ram\"\n",
    "elif sam_age >= ram_age and sam_age >= khan_age:\n",
    "    eldest = \"Sam\"\n",
    "else:\n",
    "    eldest = \"Khan\"\n",
    "if ram_age <= sam_age and ram_age <= khan_age:\n",
    "    youngest = \"Ram\"\n",
    "elif sam_age <= ram_age and sam_age <= khan_age:\n",
    "    youngest = \"Sam\"\n",
    "else:\n",
    "    youngest = \"Khan\"\n",
    "print('The eldest among Ram, Sam, and Khan is:',eldest)\n",
    "print('The youngest among Ram, Sam, and Khan is:',youngest)"
   ]
  },
  {
   "cell_type": "markdown",
   "id": "199be67f",
   "metadata": {},
   "source": [
    "# 16. Write a python program to rotate a list by right n times with and without slicing technique."
   ]
  },
  {
   "cell_type": "code",
   "execution_count": 33,
   "id": "9d19b56e",
   "metadata": {},
   "outputs": [
    {
     "name": "stdout",
     "output_type": "stream",
     "text": [
      "Enter a list of elements separated by spaces:5 10 15 22 23\n",
      "Enter the number of right rotations:3\n",
      "Rotated list with slicing: ['15', '22', '23', '5', '10']\n"
     ]
    }
   ],
   "source": [
    "#Using Slicing\n",
    "def rotate_right_with_slicing(lst, n):\n",
    "    if not lst:\n",
    "        return lst\n",
    "    n = n % len(lst)\n",
    "    rotated_lst = lst[-n:] + lst[:-n]\n",
    "    return rotated_lst\n",
    "lst = input('Enter a list of elements:').split()\n",
    "n = int(input('Enter the number of right rotations:'))\n",
    "rotated_list = rotate_right_with_slicing(lst, n)\n",
    "print('Rotated list with slicing:', rotated_list)"
   ]
  },
  {
   "cell_type": "code",
   "execution_count": null,
   "id": "1b17f6a5",
   "metadata": {},
   "outputs": [],
   "source": [
    "#Without Slicing\n",
    "def rotate_right_without_slicing(lst, n):\n",
    "    if not lst:\n",
    "        return lst\n",
    "    n = n % len(lst)\n",
    "    rotated_lst = [0] * len(lst)\n",
    "    for i in range(len(lst)):\n",
    "        rotated_lst[(i + n) % len(lst)] = lst[i]\n",
    "    return rotated_lst\n",
    "lst = input('Enter a list of elements:').split()\n",
    "n = int(input('Enter the number of right rotations:'))\n",
    "rotated_list = rotate_right_without_slicing(lst, n)\n",
    "print('Rotated list without slicing:', rotated_list)"
   ]
  },
  {
   "cell_type": "markdown",
   "id": "ef5fd149",
   "metadata": {},
   "source": [
    "# 17.Python program to print the patterns given below"
   ]
  },
  {
   "cell_type": "code",
   "execution_count": 36,
   "id": "516c4f04",
   "metadata": {},
   "outputs": [
    {
     "name": "stdout",
     "output_type": "stream",
     "text": [
      "\n",
      "  1\n",
      "  1  1\n",
      "  1  2  1\n",
      "  1  3  3  1\n",
      "  1  4  6  4  1\n",
      "  1  5  10  10  5  1\n",
      "  1  6  15  20  15  6  1\n"
     ]
    }
   ],
   "source": [
    "#Pattern1\n",
    "def pattern(n):\n",
    "    for i in range(n+1):\n",
    "        for j in range(n-i):\n",
    "            print(end='')\n",
    "\n",
    "    C = 1\n",
    "      for j in range(1, i+1):\n",
    "            print(' ',C,end='')\n",
    "            C = C * (i-j) // j\n",
    "            print()\n",
    "\n",
    "pattern(7)"
   ]
  },
  {
   "cell_type": "code",
   "execution_count": 40,
   "id": "9f0db7f8",
   "metadata": {},
   "outputs": [
    {
     "name": "stdout",
     "output_type": "stream",
     "text": [
      "*\n",
      "**\n",
      "***\n",
      "****\n",
      "*****\n"
     ]
    }
   ],
   "source": [
    "#Pattern2\n",
    "x=5\n",
    "for i in range(x):\n",
    "    for j in range(i+1):\n",
    "        print(\"*\",end='')\n",
    "    print(\"\")"
   ]
  },
  {
   "cell_type": "code",
   "execution_count": 45,
   "id": "201d17fa",
   "metadata": {},
   "outputs": [
    {
     "name": "stdout",
     "output_type": "stream",
     "text": [
      "    * \n",
      "\n",
      "   * * \n",
      "\n",
      "  * * * \n",
      "\n",
      " * * * * \n",
      "\n",
      "* * * * * \n",
      "\n"
     ]
    }
   ],
   "source": [
    "#Pattern 3\n",
    "def triangle(n):\n",
    "  k = n - 1\n",
    "  for i in range(0,n):\n",
    "    for j in range(0,k):\n",
    "      print(end = \" \")\n",
    "    k -= 1\n",
    "    for j in range (0, i+1):\n",
    "      print(\"* \", end='')\n",
    "    print(\"\\n\") \n",
    "triangle(5)"
   ]
  },
  {
   "cell_type": "code",
   "execution_count": 39,
   "id": "77a327cd",
   "metadata": {},
   "outputs": [
    {
     "name": "stdout",
     "output_type": "stream",
     "text": [
      "P\n",
      "Py\n",
      "Pyt\n",
      "Pyth\n",
      "Pytho\n",
      "Python\n"
     ]
    }
   ],
   "source": [
    "#Pattern 4\n",
    "string='Python'\n",
    "length=len(string)\n",
    "for i in range(length):\n",
    "    for j in range(i+1):\n",
    "        print(string[j],end='')\n",
    "    print()"
   ]
  },
  {
   "cell_type": "code",
   "execution_count": null,
   "id": "2f23ce42",
   "metadata": {},
   "outputs": [],
   "source": []
  }
 ],
 "metadata": {
  "kernelspec": {
   "display_name": "Python 3 (ipykernel)",
   "language": "python",
   "name": "python3"
  },
  "language_info": {
   "codemirror_mode": {
    "name": "ipython",
    "version": 3
   },
   "file_extension": ".py",
   "mimetype": "text/x-python",
   "name": "python",
   "nbconvert_exporter": "python",
   "pygments_lexer": "ipython3",
   "version": "3.11.4"
  }
 },
 "nbformat": 4,
 "nbformat_minor": 5
}
