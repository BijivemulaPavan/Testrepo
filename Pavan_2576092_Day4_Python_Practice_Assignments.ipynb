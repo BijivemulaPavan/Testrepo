{
 "cells": [
  {
   "cell_type": "markdown",
   "id": "f090b2bc",
   "metadata": {},
   "source": [
    "# 1. Write a python program with Exception handling to input marks for five subjects Physics, Chemistry, Biology, Mathematics, and Computer. Calculate the percentage and grade according to the following:\n",
    "\n",
    "a)Percentage 90%: Grade A\n",
    "\n",
    "b)Percentage >80%: Grade B\n",
    "\n",
    "c)Percentage >= 70%: Grade C \n",
    "\n",
    "d)Percentage> 60%: Grade D\n",
    "\n",
    "e)Percentage > 50%: Grade E\n",
    "\n",
    "f)Percentage< 40%: Grade F"
   ]
  },
  {
   "cell_type": "code",
   "execution_count": 3,
   "id": "260456d3",
   "metadata": {},
   "outputs": [
    {
     "name": "stdout",
     "output_type": "stream",
     "text": [
      "Enter Physics marks:85\n",
      "Enter Chemistry marks:60\n",
      "Enter Biology marks:43\n",
      "Enter Mathematics marks:35\n",
      "Enter Computer marks:25\n",
      "Percentage: 49.6%\n",
      "Grade: F\n"
     ]
    }
   ],
   "source": [
    "try:\n",
    "    physics = float(input('Enter Physics marks:'))\n",
    "    chemistry = float(input('Enter Chemistry marks:'))\n",
    "    biology = float(input('Enter Biology marks:'))\n",
    "    mathematics = float(input('Enter Mathematics marks:'))\n",
    "    computer = float(input('Enter Computer marks:'))\n",
    "    total_marks = physics + chemistry + biology + mathematics + computer\n",
    "    percentage = (total_marks / 500) * 100\n",
    "\n",
    "    #a)Percentage 90%: Grade A\n",
    "    if percentage >= 90:\n",
    "        grade = \"A\"\n",
    "    #b)Percentage >80%: Grade B\n",
    "    elif percentage > 80:\n",
    "        grade = \"B\"\n",
    "    #b)Percentage >70%: Grade C\n",
    "    elif percentage >= 70:\n",
    "        grade = \"C\"\n",
    "    #b)Percentage >60%: Grade D\n",
    "    elif percentage > 60:\n",
    "        grade = \"D\"\n",
    "    #b)Percentage >50%: Grade E\n",
    "    elif percentage > 50:\n",
    "        grade = \"E\"\n",
    "    #b)Percentage >40%: Grade F\n",
    "    else:\n",
    "        grade = \"F\"\n",
    "\n",
    "    print(f\"Percentage: {percentage}%\")\n",
    "    print(f\"Grade: {grade}\")\n",
    "\n",
    "except ValueError:\n",
    "    print(\"Invalid input. Please enter numeric marks for each subject.\")\n",
    "except Exception as e:\n",
    "    print(f\"An error occurred: {e}\")\n"
   ]
  },
  {
   "cell_type": "markdown",
   "id": "55cfac70",
   "metadata": {},
   "source": [
    "# 2. Write a python program with Exception handling to input electricity unit charges and calculate the total electricity bill according to the given condition:\n",
    "\n",
    "a)For the first 50 units Rs. 0.50/unit\n",
    "\n",
    "b)For the next 100 units Rs. 0.75/unit\n",
    "\n",
    "c)For the next 100 units Rs. 1.20/unit \n",
    "\n",
    "d)For units above 250 Rs. 1.50/unit\n",
    "\n",
    "e)An additional surcharge of 20% is added to the bill."
   ]
  },
  {
   "cell_type": "code",
   "execution_count": 13,
   "id": "56afc0a9",
   "metadata": {},
   "outputs": [
    {
     "name": "stdout",
     "output_type": "stream",
     "text": [
      "Enter the number of units consumed:500\n",
      "Total Electricity Bill: Rs. 714.00\n"
     ]
    }
   ],
   "source": [
    "try:\n",
    "    units = float(input('Enter the number of units consumed:'))\n",
    "    total_bill = 0\n",
    "    if units <= 50:\n",
    "        total_bill = units * 0.50\n",
    "    elif units <= 150:\n",
    "        total_bill = (50 * 0.50) + ((units - 50) * 0.75)\n",
    "    elif units <= 250:\n",
    "        total_bill = (50 * 0.50) + (100 * 0.75) + ((units - 150) * 1.20)\n",
    "    else:\n",
    "        total_bill = (50 * 0.50) + (100 * 0.75) + (100 * 1.20) + ((units - 250) * 1.50)\n",
    "    surcharge = total_bill * 0.20\n",
    "    total_bill += surcharge\n",
    "    print(f'Total Electricity Bill: Rs. {total_bill:.2f}')\n",
    "except ValueError:\n",
    "    print('Invalid input. Please enter a numeric value.')\n",
    "except Exception as e:\n",
    "    print(f'An error occurred:{e}')"
   ]
  },
  {
   "cell_type": "markdown",
   "id": "5f21d3bc",
   "metadata": {},
   "source": [
    "# 3. Write a python program with Exception handling to input the week number and print the weekday. "
   ]
  },
  {
   "cell_type": "code",
   "execution_count": 21,
   "id": "ba28fd90",
   "metadata": {},
   "outputs": [
    {
     "name": "stdout",
     "output_type": "stream",
     "text": [
      "Enter a week number:7\n",
      "Weekday for week 7:Sunday\n"
     ]
    }
   ],
   "source": [
    "try:\n",
    "    week_num = int(input('Enter a week number:'))\n",
    "    weekdays = ['Monday', 'Tuesday', 'Wednesday', 'Thursday', 'Friday', 'Saturday', 'Sunday']\n",
    "    if 1 <= week_number <= 7:\n",
    "        print(f'Weekday for week {week_num}:{weekdays[week_num - 1]}')\n",
    "    else:\n",
    "        print('Invalid week number. Please enter a number between 1 and 7.')\n",
    "except ValueError:\n",
    "    print('Invalid input. Please enter a valid week number as an integer.')\n",
    "except Exception as e:\n",
    "    print(f'An error occurred: {e}')"
   ]
  },
  {
   "cell_type": "markdown",
   "id": "7795f5f2",
   "metadata": {},
   "source": [
    "# 4 Write a Python program to implement word count using command line arguments.\n",
    "\n",
    "a)Create a text document \"apple.txt\" which contains text for wordcount.\n",
    "\n",
    "b)Create a wordcount program which calls the \"apple.txt\" document by opening the file.\n",
    "\n",
    "c)If the word is present again in the \"aaple.txt\", the wordcount is incremented by I until all the words are counted in the document.\n",
    "\n",
    "d)Close the file.\n",
    "\n",
    "e)Create a command.py program which imports the wordcount py program\n",
    "\n",
    "f)Count the number of words using command line arguments\n",
    "\n",
    "g)Print each word and its count"
   ]
  },
  {
   "cell_type": "markdown",
   "id": "5162046a",
   "metadata": {},
   "source": [
    "# b)Create a wordcount program which calls the \"apple.txt\" document by opening the file.\n",
    "def count_words(file_name):\n",
    "    try:\n",
    "        with open(file_name, 'r') as file:\n",
    "            text = file.read()\n",
    "            words = text.split()\n",
    "            word_count = {}\n",
    "#c)If the word is present again in the \"aaple.txt\", the wordcount is incremented by I until all the words are counted in the document.\n",
    "            for word in words:\n",
    "                if word in word_count:\n",
    "                    word_count[word] += 1\n",
    "                else:\n",
    "                    word_count[word] = 1\n",
    "#f)Count the number of words using command line arguments\n",
    "            return word_count\n",
    "    except FileNotFoundError:\n",
    "        print(f\"File '{file_name}' not found.\")\n",
    "        return {}\n",
    "\n",
    "if __name__ == \"__main__\":\n",
    "    file_name = \"apple.txt\"\n",
    "    word_count = count_words(file_name)\n",
    "#g)Print each word and its count\n",
    "    for word, count in word_count.items():\n",
    "        print(f\"{word}: {count}\")"
   ]
  },
  {
   "cell_type": "markdown",
   "id": "b66a9bcf",
   "metadata": {},
   "source": [
    "# 5 Write a Python program for finding the most frequent words in a text read from a file\n",
    "\n",
    "a)Initially open the text file in read mode.\n",
    "\n",
    "b)Make all the letters in the document into lowercase letters and split the words in each line\n",
    "\n",
    "c)Get the words in an order\n",
    "\n",
    "d)Sort the words for finding the most frequent wonts in the file.\n",
    "\n",
    "e)print the most frequent words in the file"
   ]
  },
  {
   "cell_type": "code",
   "execution_count": 52,
   "id": "a297961e",
   "metadata": {},
   "outputs": [
    {
     "name": "stdout",
     "output_type": "stream",
     "text": [
      "Most frequent words:\n",
      "am: 2 times\n",
      "hello: 1 times\n",
      "there,this: 1 times\n",
      "is: 1 times\n",
      "bijivemula: 1 times\n",
      "pavan.i: 1 times\n",
      "from: 1 times\n",
      "kadapa,andhra: 1 times\n",
      "pradesh.i: 1 times\n",
      "currently: 1 times\n"
     ]
    }
   ],
   "source": [
    "from collections import Counter\n",
    "# a)Open the text file in read mode\n",
    "file_name = 'apple.txt' \n",
    "try:\n",
    "    with open(file_name, 'r', encoding='utf-8') as file:\n",
    "        #b)Make all the letters in the document into lowercase letters and split the words in each line\n",
    "        text = file.read().lower()\n",
    "        words = text.split()\n",
    "\n",
    "       #c)Get the words in an order\n",
    "        word_count = Counter(words)\n",
    "\n",
    "        #d)Sort the words for finding the most frequent wonts in the file.\n",
    "        sorted_words = sorted(word_count.items(), key=lambda x: x[1], reverse=True)\n",
    "\n",
    "        #e)print the most frequent words in the file\n",
    "        print('Most frequent words:')\n",
    "        for word, count in sorted_words[:10]:  # Print the top 10 most frequent words\n",
    "            print(f'{word}: {count} times')\n",
    "\n",
    "except FileNotFoundError:\n",
    "    print(f'File not found.',file_name)\n",
    "except Exception as e:\n",
    "    print(f'An error occurred: {e}')"
   ]
  },
  {
   "cell_type": "markdown",
   "id": "6900abee",
   "metadata": {},
   "source": [
    "# 6. File Processing with Command-Line Arguments- Scenario: You are developing a command-line utility that processes text files. Users can specify input and output file paths as cornmand-line arguments. Your program should handle exceptions gracefully.\n",
    "\n",
    "a)Design a Python program that takes two command-line arguments: the input file path and the output file path. Ensure that the program checks if both arguments are provided and that the input file exists.\n",
    "\n",
    "b)Implement error handling to deal with scenarios such as missing input files, invalid file paths, or permission issues when writing to the output file.\n",
    "\n",
    "c)If an error occurs during he processing, display a user-friendly error message, and exit the program with a non-zero exit code\n",
    "\n",
    "d)Write test cases that cover various scenarios, including providing valid and invalid file paths as command-line arguments"
   ]
  },
  {
   "cell_type": "code",
   "execution_count": null,
   "id": "c8463671",
   "metadata": {},
   "outputs": [],
   "source": [
    "import sys\n",
    "\n",
    "def process_files(input_file_path, output_file_path):\n",
    "    try:\n",
    "        # a)Design a Python program that takes two command-line arguments: the input file path and the output file path. Ensure that the program checks if both arguments are provided and that the input file exists.\n",
    "        with open(input_file_path, 'r', encoding='utf-8') as input_file:\n",
    "            content = input_file.read()\n",
    "        processed_content = content.upper()\n",
    "        with open(output_file_path, 'w', encoding='utf-8') as output_file:\n",
    "            output_file.write(processed_content)\n",
    "\n",
    "        print(\"Processing completed successfully.\")\n",
    "#b)Implement error handling to deal with scenarios such as missing input files, invalid file paths, or permission issues when writing to the output file.\n",
    "    except FileNotFoundError:\n",
    "        print(f\"Error: Input file '{input_file_path}' not found.\")\n",
    "        sys.exit(1)\n",
    "    except PermissionError:\n",
    "        print(f\"Error: Permission denied to write to '{output_file_path}'.\")\n",
    "        sys.exit(1)\n",
    "    except Exception as e:\n",
    "        print(f\"An error occurred: {e}\")\n",
    "        sys.exit(1)\n",
    "\n",
    "if __name__ == \"__main__\":\n",
    "    \n",
    "    if len(sys.argv) != 3:\n",
    "        print(\"Usage: python program.py <input_file_path> <output_file_path>\")\n",
    "        sys.exit(1)\n",
    "\n",
    "    input_file_path = sys.argv[1]\n",
    "    output_file_path = sys.argv[2]\n",
    "\n",
    "    #d)Write test cases that cover various scenarios, including providing valid and invalid file paths as command-line arguments\n",
    "\n",
    "    process_files(input_file_path, output_file_path)"
   ]
  },
  {
   "cell_type": "code",
   "execution_count": null,
   "id": "3215e500",
   "metadata": {},
   "outputs": [],
   "source": []
  }
 ],
 "metadata": {
  "kernelspec": {
   "display_name": "Python 3 (ipykernel)",
   "language": "python",
   "name": "python3"
  },
  "language_info": {
   "codemirror_mode": {
    "name": "ipython",
    "version": 3
   },
   "file_extension": ".py",
   "mimetype": "text/x-python",
   "name": "python",
   "nbconvert_exporter": "python",
   "pygments_lexer": "ipython3",
   "version": "3.11.4"
  }
 },
 "nbformat": 4,
 "nbformat_minor": 5
}
